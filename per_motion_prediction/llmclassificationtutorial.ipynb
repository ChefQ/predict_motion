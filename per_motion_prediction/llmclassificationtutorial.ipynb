{
 "cells": [
  {
   "cell_type": "markdown",
   "metadata": {},
   "source": [
    "### Note \n",
    "You will have to run this notebook twice. One for Support and the Other for Opposition\n"
   ]
  },
  {
   "cell_type": "code",
   "execution_count": 1,
   "metadata": {},
   "outputs": [
    {
     "data": {
      "text/plain": [
       "True"
      ]
     },
     "execution_count": 1,
     "metadata": {},
     "output_type": "execute_result"
    }
   ],
   "source": [
    "from datasets import Dataset , load_dataset, DatasetDict\n",
    "import pandas as pd\n",
    "from transformers import AutoTokenizer\n",
    "from transformers import DataCollatorWithPadding , AutoTokenizer\n",
    "from transformers import AutoModelForSequenceClassification , TrainingArguments , AutoConfig\n",
    "from peft import get_peft_model, LoraConfig, TaskType\n",
    "import torch\n",
    "import torch.nn.functional as f\n",
    "import evaluate\n",
    "import numpy as np\n",
    "import os\n",
    "from torch.utils.data import DataLoader\n",
    "import evaluate\n",
    "import evaluate\n",
    "import time\n",
    "import wandb\n",
    "import random \n",
    "from transformers import TrainingArguments, Trainer , AutoModelForSequenceClassification\n",
    "\n",
    "from datasets import Features , ClassLabel, Value, Sequence\n",
    "\n",
    "roberta_checkpoint = \"roberta-large\"\n",
    "\n",
    "mistral_checkpoint = \"mistralai/Mistral-7B-v0.1\"\n",
    "bert_checkpoint = \"allenai/longformer-large-4096\" #\"bert-base-uncased\" \n",
    "\n",
    "llama_checkpoint = \"meta-llama/Llama-2-7b-hf\"\n",
    "MAX_LEN = 512 \n",
    "device = torch.device(\"cuda:4\" if torch.cuda.is_available() else \"cpu\")\n",
    "torch.distributed.is_available()"
   ]
  },
  {
   "cell_type": "code",
   "execution_count": 2,
   "metadata": {},
   "outputs": [
    {
     "data": {
      "text/plain": [
       "7"
      ]
     },
     "execution_count": 2,
     "metadata": {},
     "output_type": "execute_result"
    }
   ],
   "source": [
    "# list of cuda devices\n",
    "torch.cuda.device_count()"
   ]
  },
  {
   "cell_type": "markdown",
   "metadata": {},
   "source": [
    "### Dataset and Functions\n",
    "\n",
    "In this tab retrive the dataset relevant for the experiment.\n",
    "You only have to run the cell below once.\n",
    "It is important know that the cell below produces two types of dataframes, \"support\" and \"opposition\".\n",
    "\n",
    "\n",
    "This tab also contains most of the functinos used in this Notebook"
   ]
  },
  {
   "cell_type": "code",
   "execution_count": 2,
   "metadata": {},
   "outputs": [
    {
     "data": {
      "text/html": [
       "<div>\n",
       "<style scoped>\n",
       "    .dataframe tbody tr th:only-of-type {\n",
       "        vertical-align: middle;\n",
       "    }\n",
       "\n",
       "    .dataframe tbody tr th {\n",
       "        vertical-align: top;\n",
       "    }\n",
       "\n",
       "    .dataframe thead th {\n",
       "        text-align: right;\n",
       "    }\n",
       "</style>\n",
       "<table border=\"1\" class=\"dataframe\">\n",
       "  <thead>\n",
       "    <tr style=\"text-align: right;\">\n",
       "      <th></th>\n",
       "      <th>prompt</th>\n",
       "      <th>completion</th>\n",
       "      <th>brief_type</th>\n",
       "      <th>data_type</th>\n",
       "      <th>file_path</th>\n",
       "      <th>file_name</th>\n",
       "      <th>labels</th>\n",
       "    </tr>\n",
       "  </thead>\n",
       "  <tbody>\n",
       "    <tr>\n",
       "      <th>3</th>\n",
       "      <td>Case 2:16-cv-00430 Document 62 Filed in TXSD o...</td>\n",
       "      <td>deny</td>\n",
       "      <td>support</td>\n",
       "      <td>train</td>\n",
       "      <td>942</td>\n",
       "      <td>gov.uscourts.txsd.1389789.62.0.txt</td>\n",
       "      <td>0</td>\n",
       "    </tr>\n",
       "    <tr>\n",
       "      <th>4</th>\n",
       "      <td>Case 2:16-cv-00430 Document 64 Filed in TXSD o...</td>\n",
       "      <td>deny</td>\n",
       "      <td>opposition</td>\n",
       "      <td>train</td>\n",
       "      <td>942</td>\n",
       "      <td>gov.uscourts.txsd.1389789.64.0.txt</td>\n",
       "      <td>0</td>\n",
       "    </tr>\n",
       "    <tr>\n",
       "      <th>5</th>\n",
       "      <td>Case 2:03-cv-00294-DN Document 1108 Filed 03/2...</td>\n",
       "      <td>deny</td>\n",
       "      <td>support</td>\n",
       "      <td>test</td>\n",
       "      <td>69</td>\n",
       "      <td>gov.uscourts.utd.17917.1108.0.txt</td>\n",
       "      <td>0</td>\n",
       "    </tr>\n",
       "    <tr>\n",
       "      <th>6</th>\n",
       "      <td>Case 2:03-cv-00294-TC Document 1097\\n\\nBrent O...</td>\n",
       "      <td>deny</td>\n",
       "      <td>support</td>\n",
       "      <td>train</td>\n",
       "      <td>69</td>\n",
       "      <td>gov.uscourts.utd.17917.1097.0.txt</td>\n",
       "      <td>0</td>\n",
       "    </tr>\n",
       "    <tr>\n",
       "      <th>7</th>\n",
       "      <td>Case 2:03-cv-00294-TC Document 1095\\n\\nBrent O...</td>\n",
       "      <td>deny</td>\n",
       "      <td>support</td>\n",
       "      <td>train</td>\n",
       "      <td>69</td>\n",
       "      <td>gov.uscourts.utd.17917.1095.0.txt</td>\n",
       "      <td>0</td>\n",
       "    </tr>\n",
       "    <tr>\n",
       "      <th>...</th>\n",
       "      <td>...</td>\n",
       "      <td>...</td>\n",
       "      <td>...</td>\n",
       "      <td>...</td>\n",
       "      <td>...</td>\n",
       "      <td>...</td>\n",
       "      <td>...</td>\n",
       "    </tr>\n",
       "    <tr>\n",
       "      <th>1201</th>\n",
       "      <td>Case 1:18-cv-20818-DPG Document 206 Entered on...</td>\n",
       "      <td>grant</td>\n",
       "      <td>opposition</td>\n",
       "      <td>train</td>\n",
       "      <td>361</td>\n",
       "      <td>gov.uscourts.flsd.522563.206.0.txt</td>\n",
       "      <td>1</td>\n",
       "    </tr>\n",
       "    <tr>\n",
       "      <th>1207</th>\n",
       "      <td>Case 2:08-cv-00937-DGC Document 12 Filed 07/11...</td>\n",
       "      <td>deny</td>\n",
       "      <td>support</td>\n",
       "      <td>train</td>\n",
       "      <td>118</td>\n",
       "      <td>gov.uscourts.azd.384949.12.0.txt</td>\n",
       "      <td>0</td>\n",
       "    </tr>\n",
       "    <tr>\n",
       "      <th>1208</th>\n",
       "      <td>Case 2:08-cv-00937-DGC Document 15 Filed 07/28...</td>\n",
       "      <td>deny</td>\n",
       "      <td>opposition</td>\n",
       "      <td>train</td>\n",
       "      <td>118</td>\n",
       "      <td>gov.uscourts.azd.384949.15.0.txt</td>\n",
       "      <td>0</td>\n",
       "    </tr>\n",
       "    <tr>\n",
       "      <th>1211</th>\n",
       "      <td>Case 4:14-cr-00023-Y Document 27 Filed 03/27/1...</td>\n",
       "      <td>deny</td>\n",
       "      <td>support</td>\n",
       "      <td>train</td>\n",
       "      <td>522</td>\n",
       "      <td>gov.uscourts.txnd.243166.27.0.txt</td>\n",
       "      <td>0</td>\n",
       "    </tr>\n",
       "    <tr>\n",
       "      <th>1212</th>\n",
       "      <td>Case 4:14-cr-00023-Y Document 31 Filed 04/04/1...</td>\n",
       "      <td>deny</td>\n",
       "      <td>opposition</td>\n",
       "      <td>train</td>\n",
       "      <td>522</td>\n",
       "      <td>gov.uscourts.txnd.243166.31.0.txt</td>\n",
       "      <td>0</td>\n",
       "    </tr>\n",
       "  </tbody>\n",
       "</table>\n",
       "<p>610 rows × 7 columns</p>\n",
       "</div>"
      ],
      "text/plain": [
       "                                                 prompt completion  \\\n",
       "3     Case 2:16-cv-00430 Document 62 Filed in TXSD o...       deny   \n",
       "4     Case 2:16-cv-00430 Document 64 Filed in TXSD o...       deny   \n",
       "5     Case 2:03-cv-00294-DN Document 1108 Filed 03/2...       deny   \n",
       "6     Case 2:03-cv-00294-TC Document 1097\\n\\nBrent O...       deny   \n",
       "7     Case 2:03-cv-00294-TC Document 1095\\n\\nBrent O...       deny   \n",
       "...                                                 ...        ...   \n",
       "1201  Case 1:18-cv-20818-DPG Document 206 Entered on...      grant   \n",
       "1207  Case 2:08-cv-00937-DGC Document 12 Filed 07/11...       deny   \n",
       "1208  Case 2:08-cv-00937-DGC Document 15 Filed 07/28...       deny   \n",
       "1211  Case 4:14-cr-00023-Y Document 27 Filed 03/27/1...       deny   \n",
       "1212  Case 4:14-cr-00023-Y Document 31 Filed 04/04/1...       deny   \n",
       "\n",
       "      brief_type data_type  file_path                           file_name  \\\n",
       "3        support     train        942  gov.uscourts.txsd.1389789.62.0.txt   \n",
       "4     opposition     train        942  gov.uscourts.txsd.1389789.64.0.txt   \n",
       "5        support      test         69   gov.uscourts.utd.17917.1108.0.txt   \n",
       "6        support     train         69   gov.uscourts.utd.17917.1097.0.txt   \n",
       "7        support     train         69   gov.uscourts.utd.17917.1095.0.txt   \n",
       "...          ...       ...        ...                                 ...   \n",
       "1201  opposition     train        361  gov.uscourts.flsd.522563.206.0.txt   \n",
       "1207     support     train        118    gov.uscourts.azd.384949.12.0.txt   \n",
       "1208  opposition     train        118    gov.uscourts.azd.384949.15.0.txt   \n",
       "1211     support     train        522   gov.uscourts.txnd.243166.27.0.txt   \n",
       "1212  opposition     train        522   gov.uscourts.txnd.243166.31.0.txt   \n",
       "\n",
       "      labels  \n",
       "3          0  \n",
       "4          0  \n",
       "5          0  \n",
       "6          0  \n",
       "7          0  \n",
       "...      ...  \n",
       "1201       1  \n",
       "1207       0  \n",
       "1208       0  \n",
       "1211       0  \n",
       "1212       0  \n",
       "\n",
       "[610 rows x 7 columns]"
      ]
     },
     "execution_count": 2,
     "metadata": {},
     "output_type": "execute_result"
    }
   ],
   "source": [
    "def decision2label(decision):\n",
    "    if  \"grant\" in decision:\n",
    "        return 1\n",
    "    elif \"deny\" in decision:\n",
    "        return 0\n",
    "    else:\n",
    "        print(f\"error occured with decision: {decision} \",)\n",
    "        exit(\"Invalid decision\")\n",
    "\n",
    "\n",
    "def test_metrics(model, dataloader):\n",
    "    acc = evaluate.load(\"accuracy\")\n",
    "    preci = evaluate.load(\"precision\")\n",
    "    recall = evaluate.load(\"recall\")\n",
    "\n",
    "    csv = {'brief':[],'predict':[], 'score':[], 'truth':[]}\n",
    "\n",
    "    model.eval()\n",
    "    for batch in dataloader:\n",
    "        briefs = batch['file_name']\n",
    "        inputs = {k: v.to(device) for k, v in batch.items() if k != \"file_name\"}\n",
    "        with torch.no_grad():\n",
    "            outputs = model(**inputs)\n",
    "\n",
    "        logits = outputs.logits\n",
    "        propabilities = f.softmax(logits, dim=-1)\n",
    "        predictions = torch.argmax(logits, dim=-1)\n",
    "        acc.add_batch(predictions=predictions, references=inputs[\"labels\"])\n",
    "        preci.add_batch(predictions=predictions, references=inputs[\"labels\"])\n",
    "        recall.add_batch(predictions=predictions, references=inputs[\"labels\"])\n",
    "\n",
    "        csv['brief'].extend(briefs)\n",
    "        labels = lambda x: \"grant\" if x == 1 else \"deny\"\n",
    "        predict = list(map(labels, predictions))\n",
    "        csv['predict'].extend(predict) \n",
    "        csv['score'].extend(propabilities[:,1].cpu().numpy())\n",
    "        csv['truth'].extend(list(map(labels, inputs[\"labels\"].cpu().numpy())))\n",
    "\n",
    "    return {'accuracy': acc.compute()['accuracy'],\n",
    "            'precision': preci.compute()['precision'], \n",
    "            'recall': recall.compute()['recall'],\n",
    "            'csv': csv}\n",
    "\n",
    "#TESTSET = \"../dataset/testset.csv\"\n",
    "\n",
    "UNPAIRED_PATH = '../dataset/testset.csv'\n",
    "\n",
    "testset = pd.read_csv(UNPAIRED_PATH, index_col=0)\n",
    "\n",
    "testset = testset.loc[testset['data_type'] == 'train']\n",
    "\n",
    "# randomly set 20% of the data to test\n",
    "testset['data_type'] = testset['data_type'].apply(lambda x: \"test\" if random.random() < 0.2 else \"train\")\n",
    "\n",
    "testset['labels'] = testset['completion'].apply(decision2label)\n",
    "\n",
    "train = testset.loc[testset['data_type'] == 'train']\n",
    "test = testset.loc[testset['data_type'] == 'test']\n",
    "\n",
    "support_train = train.loc[train['brief_type'] == \"support\"]\n",
    "support_test = test.loc[test['brief_type'] == \"support\"]\n",
    "\n",
    "oppo_train = train.loc[train['brief_type'] == \"opposition\"]\n",
    "oppo_test = test.loc[test['brief_type'] == \"opposition\"]\n",
    "\n",
    "testset\n",
    "\n",
    "# try putting support and train together\n",
    "\n"
   ]
  },
  {
   "cell_type": "markdown",
   "metadata": {},
   "source": [
    "### Define tokenizers and Dataloaders\n",
    "\n",
    "You will have to edit and run the below cells several times for each datatype and model.\n",
    "\n",
    "As of the time this note was taken, the below cells uses bert and train opposition.\n",
    "\n",
    "If you want to use mistral or use train on support or increase/decrease the context size then you will have to various variable names.\n",
    "\n",
    "For exmaple:\n",
    "```model_type = \"bert\"```. This sets the model type to bert. You can change this to mistral\n",
    "`key = \"opposition\"`. This sets the input type to oppositon. You can change this to support.\n",
    "\n"
   ]
  },
  {
   "cell_type": "code",
   "execution_count": 3,
   "metadata": {},
   "outputs": [
    {
     "data": {
      "application/vnd.jupyter.widget-view+json": {
       "model_id": "c64ae31eb76b491283f468058220ffd0",
       "version_major": 2,
       "version_minor": 0
      },
      "text/plain": [
       "Map:   0%|          | 0/257 [00:00<?, ? examples/s]"
      ]
     },
     "metadata": {},
     "output_type": "display_data"
    },
    {
     "data": {
      "application/vnd.jupyter.widget-view+json": {
       "model_id": "c4a91be4efa0449fb4afba23f50a27fc",
       "version_major": 2,
       "version_minor": 0
      },
      "text/plain": [
       "Map:   0%|          | 0/64 [00:00<?, ? examples/s]"
      ]
     },
     "metadata": {},
     "output_type": "display_data"
    },
    {
     "name": "stdout",
     "output_type": "stream",
     "text": [
      "DatasetDict({\n",
      "    train: Dataset({\n",
      "        features: ['file_name', 'labels', 'input_ids', 'attention_mask'],\n",
      "        num_rows: 257\n",
      "    })\n",
      "    test: Dataset({\n",
      "        features: ['file_name', 'labels', 'input_ids', 'attention_mask'],\n",
      "        num_rows: 64\n",
      "    })\n",
      "})\n"
     ]
    },
    {
     "data": {
      "text/html": [
       "<div>\n",
       "<style scoped>\n",
       "    .dataframe tbody tr th:only-of-type {\n",
       "        vertical-align: middle;\n",
       "    }\n",
       "\n",
       "    .dataframe tbody tr th {\n",
       "        vertical-align: top;\n",
       "    }\n",
       "\n",
       "    .dataframe thead th {\n",
       "        text-align: right;\n",
       "    }\n",
       "</style>\n",
       "<table border=\"1\" class=\"dataframe\">\n",
       "  <thead>\n",
       "    <tr style=\"text-align: right;\">\n",
       "      <th></th>\n",
       "      <th>prompt</th>\n",
       "      <th>completion</th>\n",
       "      <th>brief_type</th>\n",
       "      <th>data_type</th>\n",
       "      <th>file_path</th>\n",
       "      <th>file_name</th>\n",
       "      <th>labels</th>\n",
       "    </tr>\n",
       "  </thead>\n",
       "  <tbody>\n",
       "    <tr>\n",
       "      <th>3</th>\n",
       "      <td>Case 2:16-cv-00430 Document 62 Filed in TXSD o...</td>\n",
       "      <td>deny</td>\n",
       "      <td>support</td>\n",
       "      <td>train</td>\n",
       "      <td>942</td>\n",
       "      <td>gov.uscourts.txsd.1389789.62.0.txt</td>\n",
       "      <td>0</td>\n",
       "    </tr>\n",
       "    <tr>\n",
       "      <th>4</th>\n",
       "      <td>Case 2:16-cv-00430 Document 64 Filed in TXSD o...</td>\n",
       "      <td>deny</td>\n",
       "      <td>opposition</td>\n",
       "      <td>train</td>\n",
       "      <td>942</td>\n",
       "      <td>gov.uscourts.txsd.1389789.64.0.txt</td>\n",
       "      <td>0</td>\n",
       "    </tr>\n",
       "    <tr>\n",
       "      <th>5</th>\n",
       "      <td>Case 2:03-cv-00294-DN Document 1108 Filed 03/2...</td>\n",
       "      <td>deny</td>\n",
       "      <td>support</td>\n",
       "      <td>test</td>\n",
       "      <td>69</td>\n",
       "      <td>gov.uscourts.utd.17917.1108.0.txt</td>\n",
       "      <td>0</td>\n",
       "    </tr>\n",
       "    <tr>\n",
       "      <th>6</th>\n",
       "      <td>Case 2:03-cv-00294-TC Document 1097\\n\\nBrent O...</td>\n",
       "      <td>deny</td>\n",
       "      <td>support</td>\n",
       "      <td>train</td>\n",
       "      <td>69</td>\n",
       "      <td>gov.uscourts.utd.17917.1097.0.txt</td>\n",
       "      <td>0</td>\n",
       "    </tr>\n",
       "    <tr>\n",
       "      <th>7</th>\n",
       "      <td>Case 2:03-cv-00294-TC Document 1095\\n\\nBrent O...</td>\n",
       "      <td>deny</td>\n",
       "      <td>support</td>\n",
       "      <td>train</td>\n",
       "      <td>69</td>\n",
       "      <td>gov.uscourts.utd.17917.1095.0.txt</td>\n",
       "      <td>0</td>\n",
       "    </tr>\n",
       "    <tr>\n",
       "      <th>...</th>\n",
       "      <td>...</td>\n",
       "      <td>...</td>\n",
       "      <td>...</td>\n",
       "      <td>...</td>\n",
       "      <td>...</td>\n",
       "      <td>...</td>\n",
       "      <td>...</td>\n",
       "    </tr>\n",
       "    <tr>\n",
       "      <th>1201</th>\n",
       "      <td>Case 1:18-cv-20818-DPG Document 206 Entered on...</td>\n",
       "      <td>grant</td>\n",
       "      <td>opposition</td>\n",
       "      <td>train</td>\n",
       "      <td>361</td>\n",
       "      <td>gov.uscourts.flsd.522563.206.0.txt</td>\n",
       "      <td>1</td>\n",
       "    </tr>\n",
       "    <tr>\n",
       "      <th>1207</th>\n",
       "      <td>Case 2:08-cv-00937-DGC Document 12 Filed 07/11...</td>\n",
       "      <td>deny</td>\n",
       "      <td>support</td>\n",
       "      <td>train</td>\n",
       "      <td>118</td>\n",
       "      <td>gov.uscourts.azd.384949.12.0.txt</td>\n",
       "      <td>0</td>\n",
       "    </tr>\n",
       "    <tr>\n",
       "      <th>1208</th>\n",
       "      <td>Case 2:08-cv-00937-DGC Document 15 Filed 07/28...</td>\n",
       "      <td>deny</td>\n",
       "      <td>opposition</td>\n",
       "      <td>train</td>\n",
       "      <td>118</td>\n",
       "      <td>gov.uscourts.azd.384949.15.0.txt</td>\n",
       "      <td>0</td>\n",
       "    </tr>\n",
       "    <tr>\n",
       "      <th>1211</th>\n",
       "      <td>Case 4:14-cr-00023-Y Document 27 Filed 03/27/1...</td>\n",
       "      <td>deny</td>\n",
       "      <td>support</td>\n",
       "      <td>train</td>\n",
       "      <td>522</td>\n",
       "      <td>gov.uscourts.txnd.243166.27.0.txt</td>\n",
       "      <td>0</td>\n",
       "    </tr>\n",
       "    <tr>\n",
       "      <th>1212</th>\n",
       "      <td>Case 4:14-cr-00023-Y Document 31 Filed 04/04/1...</td>\n",
       "      <td>deny</td>\n",
       "      <td>opposition</td>\n",
       "      <td>train</td>\n",
       "      <td>522</td>\n",
       "      <td>gov.uscourts.txnd.243166.31.0.txt</td>\n",
       "      <td>0</td>\n",
       "    </tr>\n",
       "  </tbody>\n",
       "</table>\n",
       "<p>610 rows × 7 columns</p>\n",
       "</div>"
      ],
      "text/plain": [
       "                                                 prompt completion  \\\n",
       "3     Case 2:16-cv-00430 Document 62 Filed in TXSD o...       deny   \n",
       "4     Case 2:16-cv-00430 Document 64 Filed in TXSD o...       deny   \n",
       "5     Case 2:03-cv-00294-DN Document 1108 Filed 03/2...       deny   \n",
       "6     Case 2:03-cv-00294-TC Document 1097\\n\\nBrent O...       deny   \n",
       "7     Case 2:03-cv-00294-TC Document 1095\\n\\nBrent O...       deny   \n",
       "...                                                 ...        ...   \n",
       "1201  Case 1:18-cv-20818-DPG Document 206 Entered on...      grant   \n",
       "1207  Case 2:08-cv-00937-DGC Document 12 Filed 07/11...       deny   \n",
       "1208  Case 2:08-cv-00937-DGC Document 15 Filed 07/28...       deny   \n",
       "1211  Case 4:14-cr-00023-Y Document 27 Filed 03/27/1...       deny   \n",
       "1212  Case 4:14-cr-00023-Y Document 31 Filed 04/04/1...       deny   \n",
       "\n",
       "      brief_type data_type  file_path                           file_name  \\\n",
       "3        support     train        942  gov.uscourts.txsd.1389789.62.0.txt   \n",
       "4     opposition     train        942  gov.uscourts.txsd.1389789.64.0.txt   \n",
       "5        support      test         69   gov.uscourts.utd.17917.1108.0.txt   \n",
       "6        support     train         69   gov.uscourts.utd.17917.1097.0.txt   \n",
       "7        support     train         69   gov.uscourts.utd.17917.1095.0.txt   \n",
       "...          ...       ...        ...                                 ...   \n",
       "1201  opposition     train        361  gov.uscourts.flsd.522563.206.0.txt   \n",
       "1207     support     train        118    gov.uscourts.azd.384949.12.0.txt   \n",
       "1208  opposition     train        118    gov.uscourts.azd.384949.15.0.txt   \n",
       "1211     support     train        522   gov.uscourts.txnd.243166.27.0.txt   \n",
       "1212  opposition     train        522   gov.uscourts.txnd.243166.31.0.txt   \n",
       "\n",
       "      labels  \n",
       "3          0  \n",
       "4          0  \n",
       "5          0  \n",
       "6          0  \n",
       "7          0  \n",
       "...      ...  \n",
       "1201       1  \n",
       "1207       0  \n",
       "1208       0  \n",
       "1211       0  \n",
       "1212       0  \n",
       "\n",
       "[610 rows x 7 columns]"
      ]
     },
     "execution_count": 3,
     "metadata": {},
     "output_type": "execute_result"
    }
   ],
   "source": [
    "\n",
    "model_type = \"longFormer\"\n",
    "\n",
    "key = \"support\"\n",
    "\n",
    "# Remember to change this\n",
    "\n",
    "features = Features({ 'prompt' : Value(dtype='string'),\n",
    "                     'completion': ClassLabel(num_classes=3, names=['deny', 'grant', 'TBD'],  id=None),\n",
    "                     'brief_type' : ClassLabel(num_classes=2, names=[\"support\", \"opposition\"], id=None),\n",
    "                        'data_type' : ClassLabel(num_classes=2, names=[\"train\", \"test\"], id=None),\n",
    "                        'file_path' : Value(dtype='int64') ,\n",
    "                        'file_name' : Value(dtype='string'),   \n",
    "                        'labels' : Value(dtype='int64')\n",
    "                     })\n",
    "\n",
    "# can change the argument\n",
    "if key == \"support\":    \n",
    "    dataset_train = Dataset.from_pandas(support_train, preserve_index=False , features= features )\n",
    "    dataset_test = Dataset.from_pandas(support_test, preserve_index=False,  features= features)\n",
    "else: #  key == opposition\n",
    "   \n",
    "    dataset_train = Dataset.from_pandas(oppo_train, preserve_index=False, features= features)\n",
    "    dataset_test = Dataset.from_pandas(oppo_test, preserve_index=False, features= features)\n",
    "\n",
    "lr = 1e-5\n",
    "\n",
    "dataset = DatasetDict()\n",
    "\n",
    "\n",
    "dataset['train'] = dataset_train\n",
    "dataset['test'] = dataset_test\n",
    "\n",
    "\n",
    "if model_type == \"mistral\":\n",
    "\n",
    "    tokenizer = AutoTokenizer.from_pretrained(mistral_checkpoint, add_prefix_space=True, device=device)\n",
    "    tokenizer.pad_token_id = tokenizer.eos_token_id\n",
    "    tokenizer.pad_token = tokenizer.eos_token\n",
    "\n",
    "\n",
    "    config = AutoConfig.from_pretrained(mistral_checkpoint)\n",
    "    max_input_size =  1024\n",
    "\n",
    "    def tokenize_function(examples):\n",
    "        return tokenizer(examples['prompt'], truncation= True, padding=\"max_length\" , max_length=max_input_size)\n",
    "\n",
    "    #mistral_data_collator = DataCollatorWithPadding(tokenizer)\n",
    "\n",
    "else:\n",
    "    tokenizer = AutoTokenizer.from_pretrained(bert_checkpoint)\n",
    "\n",
    "    def tokenize_function(briefs):\n",
    "     return tokenizer(briefs[\"prompt\"], padding=\"max_length\", truncation=True)\n",
    "\n",
    "\n",
    "tokenized_datasets = dataset.map(tokenize_function, batched=True)\n",
    "\n",
    "# small_train_dataset = tokenized_datasets[\"train\"].shuffle(seed=42).select(range(200))\n",
    "# small_eval_dataset = tokenized_datasets[\"test\"].shuffle(seed=42).select(range(200))\n",
    "\n",
    "tokenized_datasets = tokenized_datasets.remove_columns([\"completion\",\"prompt\",\"brief_type\",\"data_type\", \"file_path\", ]) # \"file_name\"])\n",
    "tokenized_datasets.set_format(\"torch\")\n",
    "\n",
    "\n",
    "train_dataloader = DataLoader(tokenized_datasets[\"train\"], shuffle=True, batch_size=2, )\n",
    "eval_dataloader = DataLoader(tokenized_datasets[\"test\"], batch_size=2, ) \n",
    "\n",
    "\n",
    "print(tokenized_datasets)\n",
    "testset"
   ]
  },
  {
   "cell_type": "markdown",
   "metadata": {},
   "source": [
    "## Model\n",
    "\n",
    "There are two models available to be used in this experiment.\n",
    "Bert and Mistral.\n",
    "\n",
    "Only run the cell that corresponds to the model you want to use.\n",
    "\n",
    "In the cells below, you can also configure the model and it's hyperparameters as you see fit.\n",
    "\n",
    "Important note:\n",
    "Mistral is quite large and could not fit in the current GPU capacity for this experiment."
   ]
  },
  {
   "cell_type": "markdown",
   "metadata": {},
   "source": [
    "Bert"
   ]
  },
  {
   "cell_type": "code",
   "execution_count": 4,
   "metadata": {},
   "outputs": [
    {
     "name": "stderr",
     "output_type": "stream",
     "text": [
      "/u3/oqcardos/.local/lib/python3.11/site-packages/torch/_utils.py:831: UserWarning: TypedStorage is deprecated. It will be removed in the future and UntypedStorage will be the only storage class. This should only matter to you if you are using storages directly.  To access UntypedStorage directly, use tensor.untyped_storage() instead of tensor.storage()\n",
      "  return self.fget.__get__(instance, owner)()\n",
      "Some weights of LongformerForSequenceClassification were not initialized from the model checkpoint at allenai/longformer-large-4096 and are newly initialized: ['classifier.dense.bias', 'classifier.dense.weight', 'classifier.out_proj.bias', 'classifier.out_proj.weight']\n",
      "You should probably TRAIN this model on a down-stream task to be able to use it for predictions and inference.\n"
     ]
    },
    {
     "name": "stdout",
     "output_type": "stream",
     "text": [
      "The model has 434603010 parameters.\n",
      "The model has a context window of 4098 tokens.\n"
     ]
    }
   ],
   "source": [
    "lr = 1e-5\n",
    "model = AutoModelForSequenceClassification.from_pretrained(bert_checkpoint, num_labels=2,).to(device)\n",
    "optimizer = torch.optim.AdamW(model.parameters(), lr=lr)\n",
    "num_params = model.num_parameters()\n",
    "print(f\"The model has {num_params} parameters.\")\n",
    "print(f\"The model has a context window of {model.config.max_position_embeddings} tokens.\")"
   ]
  },
  {
   "cell_type": "markdown",
   "metadata": {},
   "source": [
    "Mistral (Do not run this)"
   ]
  },
  {
   "cell_type": "code",
   "execution_count": 4,
   "metadata": {},
   "outputs": [
    {
     "data": {
      "application/vnd.jupyter.widget-view+json": {
       "model_id": "11bf08a04c7a4e178e6a58768b7e9560",
       "version_major": 2,
       "version_minor": 0
      },
      "text/plain": [
       "Loading checkpoint shards:   0%|          | 0/2 [00:00<?, ?it/s]"
      ]
     },
     "metadata": {},
     "output_type": "display_data"
    },
    {
     "name": "stderr",
     "output_type": "stream",
     "text": [
      "Some weights of MistralForSequenceClassification were not initialized from the model checkpoint at mistralai/Mistral-7B-v0.1 and are newly initialized: ['score.weight']\n",
      "You should probably TRAIN this model on a down-stream task to be able to use it for predictions and inference.\n",
      "WARNING:root:Some parameters are on the meta device device because they were offloaded to the cpu.\n"
     ]
    },
    {
     "name": "stdout",
     "output_type": "stream",
     "text": [
      "trainable params: 860,160 || all params: 7,111,528,448 || trainable%: 0.012095290151611583\n"
     ]
    }
   ],
   "source": [
    "\n",
    "# model =  AutoModelForSequenceClassification.from_pretrained(\n",
    "#   pretrained_model_name_or_path=mistral_checkpoint,\n",
    "#   num_labels=2,\n",
    "#   #use_flash_attention_2=True,\n",
    "#   torch_dtype= torch.bfloat16,\n",
    "# #  device_map=\"auto\"\n",
    "# ).to(device)\n",
    "\n",
    "# model.config.pad_token_id = model.config.eos_token_id\n",
    "\n",
    "# mistral_peft_config = LoraConfig(\n",
    "#     task_type=TaskType.SEQ_CLS, r=2, lora_alpha=16, lora_dropout=0.1, bias=\"none\", \n",
    "#     target_modules=[\n",
    "#         \"q_proj\",\n",
    "#         \"v_proj\",\n",
    "#     ],\n",
    "# )\n",
    "\n",
    "# model = get_peft_model(model, mistral_peft_config)\n",
    "# model.print_trainable_parameters()\n",
    "\n",
    "# lr = 1e-5\n",
    "# optimizer = torch.optim.AdamW(model.parameters(), lr=lr)\n",
    "\n"
   ]
  },
  {
   "cell_type": "markdown",
   "metadata": {},
   "source": [
    "## Train and Test\n",
    "\n",
    "This project is connected to Weight and Biases [(wandb)](https://wandb.ai/site)\n",
    "\n",
    "So make sure to pip install and sign up to wand if you want to see the training graphs.\n",
    "\n",
    "In the cell below you can change the num_epochs.\n",
    "\n"
   ]
  },
  {
   "cell_type": "code",
   "execution_count": 5,
   "metadata": {},
   "outputs": [
    {
     "name": "stderr",
     "output_type": "stream",
     "text": [
      "Failed to detect the name of this notebook, you can set it manually with the WANDB_NOTEBOOK_NAME environment variable to enable code saving.\n"
     ]
    },
    {
     "name": "stderr",
     "output_type": "stream",
     "text": [
      "\u001b[34m\u001b[1mwandb\u001b[0m: Currently logged in as: \u001b[33moqcardoso\u001b[0m. Use \u001b[1m`wandb login --relogin`\u001b[0m to force relogin\n"
     ]
    },
    {
     "data": {
      "text/html": [
       "wandb version 0.16.6 is available!  To upgrade, please run:\n",
       " $ pip install wandb --upgrade"
      ],
      "text/plain": [
       "<IPython.core.display.HTML object>"
      ]
     },
     "metadata": {},
     "output_type": "display_data"
    },
    {
     "data": {
      "text/html": [
       "Tracking run with wandb version 0.16.3"
      ],
      "text/plain": [
       "<IPython.core.display.HTML object>"
      ]
     },
     "metadata": {},
     "output_type": "display_data"
    },
    {
     "data": {
      "text/html": [
       "Run data is saved locally in <code>/u3/oqcardos/predict_motion/per_motion_prediction/wandb/run-20240417_025302-6yf1erv0</code>"
      ],
      "text/plain": [
       "<IPython.core.display.HTML object>"
      ]
     },
     "metadata": {},
     "output_type": "display_data"
    },
    {
     "data": {
      "text/html": [
       "Syncing run <strong><a href='https://wandb.ai/oqcardoso/LLM_TUTORIAL/runs/6yf1erv0' target=\"_blank\">Support-allenai/longformer-large-4096</a></strong> to <a href='https://wandb.ai/oqcardoso/LLM_TUTORIAL' target=\"_blank\">Weights & Biases</a> (<a href='https://wandb.me/run' target=\"_blank\">docs</a>)<br/>"
      ],
      "text/plain": [
       "<IPython.core.display.HTML object>"
      ]
     },
     "metadata": {},
     "output_type": "display_data"
    },
    {
     "data": {
      "text/html": [
       " View project at <a href='https://wandb.ai/oqcardoso/LLM_TUTORIAL' target=\"_blank\">https://wandb.ai/oqcardoso/LLM_TUTORIAL</a>"
      ],
      "text/plain": [
       "<IPython.core.display.HTML object>"
      ]
     },
     "metadata": {},
     "output_type": "display_data"
    },
    {
     "data": {
      "text/html": [
       " View run at <a href='https://wandb.ai/oqcardoso/LLM_TUTORIAL/runs/6yf1erv0' target=\"_blank\">https://wandb.ai/oqcardoso/LLM_TUTORIAL/runs/6yf1erv0</a>"
      ],
      "text/plain": [
       "<IPython.core.display.HTML object>"
      ]
     },
     "metadata": {},
     "output_type": "display_data"
    },
    {
     "data": {
      "text/html": [
       "<button onClick=\"this.nextSibling.style.display='block';this.style.display='none';\">Display W&B run</button><iframe src='https://wandb.ai/oqcardoso/LLM_TUTORIAL/runs/6yf1erv0?jupyter=true' style='border:none;width:100%;height:420px;display:none;'></iframe>"
      ],
      "text/plain": [
       "<wandb.sdk.wandb_run.Run at 0x7f9c75203650>"
      ]
     },
     "execution_count": 5,
     "metadata": {},
     "output_type": "execute_result"
    }
   ],
   "source": [
    "\n",
    "# what does get_scheduler do?\n",
    "\n",
    "from transformers import get_scheduler\n",
    "\n",
    "num_epochs = 100\n",
    "num_training_steps = num_epochs * len(train_dataloader)\n",
    "\n",
    "name = \"Support\" if key == \"support\" else \"Opposition\"\n",
    "\n",
    "wandb.init(\n",
    "    # set the wandb project where this run will be logged\n",
    "    project=\"LLM_TUTORIAL\",  \n",
    "    name= f\"{name}-{bert_checkpoint}\",#f\"Opposition-mistral-7B-v0.1-1-Tokensize:{max_input_size}\",\n",
    "    # track hyperparameters and run metadata\n",
    "    config={\n",
    "    \"optimizer\": \"AdamW\",\n",
    "    \"lr\": lr,\n",
    "\n",
    "    \"dataset\": \"single-supports\",\n",
    "    \"epochs\": num_epochs,\n",
    "    }\n",
    ")\n",
    "\n"
   ]
  },
  {
   "cell_type": "markdown",
   "metadata": {},
   "source": [
    "### Training and Evaluation\n",
    "\n",
    "Simply put this is where training and evaluation takes place.\n",
    "At every epoch i send the accumulated average loss, metrics like precision, recall and accuracy to wandb\n",
    "\n",
    "I save the model to disk that produces the highest accuracy, aswell as the prediction files."
   ]
  },
  {
   "cell_type": "code",
   "execution_count": 6,
   "metadata": {},
   "outputs": [
    {
     "data": {
      "application/vnd.jupyter.widget-view+json": {
       "model_id": "cb6218f9f4de41578e022a8684515f44",
       "version_major": 2,
       "version_minor": 0
      },
      "text/plain": [
       "  0%|          | 0/12900 [00:00<?, ?it/s]"
      ]
     },
     "metadata": {},
     "output_type": "display_data"
    },
    {
     "name": "stdout",
     "output_type": "stream",
     "text": [
      "Training model\n"
     ]
    },
    {
     "name": "stderr",
     "output_type": "stream",
     "text": [
      "Initializing global attention on CLS token...\n"
     ]
    },
    {
     "name": "stdout",
     "output_type": "stream",
     "text": [
      "Epoch 0 completed\n",
      "Accuracy: {'accuracy': 0.47470817120622566}\n",
      "loss : 0.7216489740120348\n",
      "Evaluating model on test set\n",
      "{'accuracy': 0.5625, 'precision': 0.5625, 'recall': 1.0, 'csv': {'brief': ['gov.uscourts.utd.17917.1108.0.txt', 'gov.uscourts.txnd.179161.24.0.txt', 'gov.uscourts.flsd.461950.22.0.txt', 'gov.uscourts.azd.1031122.135.0.txt', 'gov.uscourts.mad.149048.35.0.txt', 'gov.uscourts.vaed.284235.179.0.txt', 'gov.uscourts.vtd.18657.122.0.txt', 'gov.uscourts.mad.127997.28.0.txt', 'gov.uscourts.wied.45575.1186.0.txt', 'gov.uscourts.cand.197984.2000.0.txt', 'gov.uscourts.ilcd.40681.4.0.txt', 'gov.uscourts.insd.41796.150.0.txt', 'gov.uscourts.cand.192753.140.0.txt', 'gov.uscourts.tnwd.61189.33.0.txt', 'gov.uscourts.cand.192674.236.0.txt', 'gov.uscourts.cand.196504.35.0.txt', 'gov.uscourts.flsd.393904.46.0.txt', 'gov.uscourts.cofc.16889.63.0.txt', 'gov.uscourts.txed.127304.89.0.txt', 'gov.uscourts.nyed.309421.10.0.txt', 'gov.uscourts.casd.253104.13.0.txt', 'gov.uscourts.utd.18110.59.0.txt', 'gov.uscourts.miwd.5376.104.0.txt', 'gov.uscourts.ded.8183.134.0.txt', 'gov.uscourts.rid.41576.25.0.txt', 'gov.uscourts.nysd.316362.313.0.txt', 'gov.uscourts.nysd.316362.312.0.txt', 'gov.uscourts.mad.98545.6.0.txt', 'gov.uscourts.nhd.45295.18.0.txt', 'gov.uscourts.cand.34465.234.0.txt', 'gov.uscourts.nysd.330523.585.0.txt', 'gov.uscourts.utd.81811.60.0.txt', 'gov.uscourts.utd.81811.59.0.txt', 'gov.uscourts.mssd.78233.38.0.txt', 'gov.uscourts.txed.104068.190.0.txt', 'gov.uscourts.med.49305.34.0.txt', 'gov.uscourts.ded.8666.105.0.txt', 'gov.uscourts.nysd.315289.102.0.txt', 'gov.uscourts.lamd.50409.19.0.txt', 'gov.uscourts.mied.317381.31.0.txt', 'gov.uscourts.txsd.691059.19.0.txt', 'gov.uscourts.flmd.305522.3.0.txt', 'gov.uscourts.casd.256908.58.0.txt', 'gov.uscourts.arwd.34777.24.0.txt', 'gov.uscourts.wawd.214849.101.0.txt', 'gov.uscourts.pawd.2688.29.0.txt', 'gov.uscourts.txed.119083.107.0.txt', 'gov.uscourts.txnd.143219.17.0.txt', 'gov.uscourts.txnd.143219.19.0.txt', 'gov.uscourts.okwd.69088.18.0.txt', 'gov.uscourts.idd.22192.163.0.txt', 'gov.uscourts.msnd.33061.106.0.txt', 'gov.uscourts.flsd.505840.11.0.txt', 'gov.uscourts.vaed.271949.1032.0.txt', 'gov.uscourts.vaed.271949.979.0.txt', 'gov.uscourts.gand.199351.87.0.txt', 'gov.uscourts.ksd.100034.4.0.txt', 'gov.uscourts.gand.220241.19.0.txt', 'gov.uscourts.idd.18044.15.0.txt', 'gov.uscourts.azd.653020.14.0.txt', 'gov.uscourts.ded.7515.247.0.txt', 'gov.uscourts.ded.7515.263.0.txt', 'gov.uscourts.ded.7515.246.0.txt', 'gov.uscourts.flsd.522563.197.0.txt'], 'predict': ['grant', 'grant', 'grant', 'grant', 'grant', 'grant', 'grant', 'grant', 'grant', 'grant', 'grant', 'grant', 'grant', 'grant', 'grant', 'grant', 'grant', 'grant', 'grant', 'grant', 'grant', 'grant', 'grant', 'grant', 'grant', 'grant', 'grant', 'grant', 'grant', 'grant', 'grant', 'grant', 'grant', 'grant', 'grant', 'grant', 'grant', 'grant', 'grant', 'grant', 'grant', 'grant', 'grant', 'grant', 'grant', 'grant', 'grant', 'grant', 'grant', 'grant', 'grant', 'grant', 'grant', 'grant', 'grant', 'grant', 'grant', 'grant', 'grant', 'grant', 'grant', 'grant', 'grant', 'grant'], 'score': [0.54822, 0.54505146, 0.5753668, 0.58117205, 0.5656643, 0.5744425, 0.5693418, 0.57034665, 0.5767912, 0.537442, 0.5729401, 0.57617503, 0.59213597, 0.5652872, 0.5803912, 0.56894124, 0.56724524, 0.57573766, 0.58095306, 0.56887823, 0.5682138, 0.5592427, 0.57127446, 0.5574573, 0.5724014, 0.5718383, 0.5758819, 0.5571608, 0.54714674, 0.56057835, 0.5202213, 0.5763534, 0.5734925, 0.5702825, 0.56893003, 0.5439949, 0.5937309, 0.59247476, 0.5577173, 0.5373471, 0.5790381, 0.5697793, 0.57325196, 0.5695144, 0.5823933, 0.5827386, 0.5626185, 0.56270355, 0.5556446, 0.5525649, 0.5600372, 0.5685489, 0.55256057, 0.5676245, 0.5833472, 0.5870143, 0.5784734, 0.5450236, 0.57380813, 0.5674671, 0.56828153, 0.5565735, 0.56218714, 0.57697165], 'truth': ['deny', 'grant', 'deny', 'grant', 'grant', 'grant', 'grant', 'grant', 'deny', 'grant', 'deny', 'deny', 'deny', 'deny', 'deny', 'grant', 'deny', 'grant', 'grant', 'deny', 'grant', 'grant', 'deny', 'grant', 'deny', 'grant', 'grant', 'grant', 'grant', 'deny', 'deny', 'deny', 'deny', 'deny', 'grant', 'deny', 'grant', 'grant', 'deny', 'grant', 'grant', 'grant', 'deny', 'grant', 'deny', 'grant', 'grant', 'grant', 'grant', 'deny', 'deny', 'grant', 'deny', 'deny', 'deny', 'deny', 'grant', 'deny', 'grant', 'grant', 'grant', 'grant', 'grant', 'grant']}}\n",
      "Saving model\n",
      "Epoch 1 completed\n",
      "Accuracy: {'accuracy': 0.5642023346303502}\n",
      "loss : 0.6797078164048898\n",
      "Evaluating model on test set\n",
      "{'accuracy': 0.453125, 'precision': 0.6666666666666666, 'recall': 0.05555555555555555, 'csv': {'brief': ['gov.uscourts.utd.17917.1108.0.txt', 'gov.uscourts.txnd.179161.24.0.txt', 'gov.uscourts.flsd.461950.22.0.txt', 'gov.uscourts.azd.1031122.135.0.txt', 'gov.uscourts.mad.149048.35.0.txt', 'gov.uscourts.vaed.284235.179.0.txt', 'gov.uscourts.vtd.18657.122.0.txt', 'gov.uscourts.mad.127997.28.0.txt', 'gov.uscourts.wied.45575.1186.0.txt', 'gov.uscourts.cand.197984.2000.0.txt', 'gov.uscourts.ilcd.40681.4.0.txt', 'gov.uscourts.insd.41796.150.0.txt', 'gov.uscourts.cand.192753.140.0.txt', 'gov.uscourts.tnwd.61189.33.0.txt', 'gov.uscourts.cand.192674.236.0.txt', 'gov.uscourts.cand.196504.35.0.txt', 'gov.uscourts.flsd.393904.46.0.txt', 'gov.uscourts.cofc.16889.63.0.txt', 'gov.uscourts.txed.127304.89.0.txt', 'gov.uscourts.nyed.309421.10.0.txt', 'gov.uscourts.casd.253104.13.0.txt', 'gov.uscourts.utd.18110.59.0.txt', 'gov.uscourts.miwd.5376.104.0.txt', 'gov.uscourts.ded.8183.134.0.txt', 'gov.uscourts.rid.41576.25.0.txt', 'gov.uscourts.nysd.316362.313.0.txt', 'gov.uscourts.nysd.316362.312.0.txt', 'gov.uscourts.mad.98545.6.0.txt', 'gov.uscourts.nhd.45295.18.0.txt', 'gov.uscourts.cand.34465.234.0.txt', 'gov.uscourts.nysd.330523.585.0.txt', 'gov.uscourts.utd.81811.60.0.txt', 'gov.uscourts.utd.81811.59.0.txt', 'gov.uscourts.mssd.78233.38.0.txt', 'gov.uscourts.txed.104068.190.0.txt', 'gov.uscourts.med.49305.34.0.txt', 'gov.uscourts.ded.8666.105.0.txt', 'gov.uscourts.nysd.315289.102.0.txt', 'gov.uscourts.lamd.50409.19.0.txt', 'gov.uscourts.mied.317381.31.0.txt', 'gov.uscourts.txsd.691059.19.0.txt', 'gov.uscourts.flmd.305522.3.0.txt', 'gov.uscourts.casd.256908.58.0.txt', 'gov.uscourts.arwd.34777.24.0.txt', 'gov.uscourts.wawd.214849.101.0.txt', 'gov.uscourts.pawd.2688.29.0.txt', 'gov.uscourts.txed.119083.107.0.txt', 'gov.uscourts.txnd.143219.17.0.txt', 'gov.uscourts.txnd.143219.19.0.txt', 'gov.uscourts.okwd.69088.18.0.txt', 'gov.uscourts.idd.22192.163.0.txt', 'gov.uscourts.msnd.33061.106.0.txt', 'gov.uscourts.flsd.505840.11.0.txt', 'gov.uscourts.vaed.271949.1032.0.txt', 'gov.uscourts.vaed.271949.979.0.txt', 'gov.uscourts.gand.199351.87.0.txt', 'gov.uscourts.ksd.100034.4.0.txt', 'gov.uscourts.gand.220241.19.0.txt', 'gov.uscourts.idd.18044.15.0.txt', 'gov.uscourts.azd.653020.14.0.txt', 'gov.uscourts.ded.7515.247.0.txt', 'gov.uscourts.ded.7515.263.0.txt', 'gov.uscourts.ded.7515.246.0.txt', 'gov.uscourts.flsd.522563.197.0.txt'], 'predict': ['deny', 'deny', 'deny', 'deny', 'deny', 'deny', 'deny', 'deny', 'deny', 'deny', 'deny', 'deny', 'deny', 'deny', 'deny', 'deny', 'deny', 'deny', 'deny', 'deny', 'deny', 'deny', 'deny', 'deny', 'deny', 'deny', 'deny', 'deny', 'deny', 'deny', 'deny', 'deny', 'deny', 'grant', 'deny', 'deny', 'grant', 'deny', 'deny', 'deny', 'deny', 'deny', 'deny', 'deny', 'deny', 'deny', 'deny', 'deny', 'deny', 'deny', 'deny', 'deny', 'deny', 'deny', 'deny', 'deny', 'grant', 'deny', 'deny', 'deny', 'deny', 'deny', 'deny', 'deny'], 'score': [0.4393956, 0.48917106, 0.45677915, 0.45478535, 0.44914293, 0.48269346, 0.4216976, 0.47582984, 0.47012576, 0.3518547, 0.46167603, 0.44605926, 0.47455254, 0.43700463, 0.45337132, 0.43504232, 0.4322811, 0.47422436, 0.43241718, 0.43170327, 0.45954216, 0.4081758, 0.4799567, 0.48512667, 0.47290546, 0.49247545, 0.49694365, 0.47228867, 0.4330784, 0.45954376, 0.45276207, 0.4767671, 0.4350847, 0.50461245, 0.4239297, 0.4182061, 0.5018411, 0.4544026, 0.43131214, 0.46969444, 0.47060236, 0.48312786, 0.43531322, 0.48584178, 0.46452844, 0.48605606, 0.43383276, 0.47124198, 0.4647143, 0.4679793, 0.43121704, 0.42482635, 0.441253, 0.46753713, 0.47976467, 0.4442661, 0.50552225, 0.4518313, 0.45747104, 0.48646614, 0.44754466, 0.4512543, 0.46833843, 0.44854733], 'truth': ['deny', 'grant', 'deny', 'grant', 'grant', 'grant', 'grant', 'grant', 'deny', 'grant', 'deny', 'deny', 'deny', 'deny', 'deny', 'grant', 'deny', 'grant', 'grant', 'deny', 'grant', 'grant', 'deny', 'grant', 'deny', 'grant', 'grant', 'grant', 'grant', 'deny', 'deny', 'deny', 'deny', 'deny', 'grant', 'deny', 'grant', 'grant', 'deny', 'grant', 'grant', 'grant', 'deny', 'grant', 'deny', 'grant', 'grant', 'grant', 'grant', 'deny', 'deny', 'grant', 'deny', 'deny', 'deny', 'deny', 'grant', 'deny', 'grant', 'grant', 'grant', 'grant', 'grant', 'grant']}}\n",
      "Epoch 2 completed\n",
      "Accuracy: {'accuracy': 0.6303501945525292}\n",
      "loss : 0.6641781496447187\n",
      "Evaluating model on test set\n",
      "{'accuracy': 0.546875, 'precision': 0.5573770491803278, 'recall': 0.9444444444444444, 'csv': {'brief': ['gov.uscourts.utd.17917.1108.0.txt', 'gov.uscourts.txnd.179161.24.0.txt', 'gov.uscourts.flsd.461950.22.0.txt', 'gov.uscourts.azd.1031122.135.0.txt', 'gov.uscourts.mad.149048.35.0.txt', 'gov.uscourts.vaed.284235.179.0.txt', 'gov.uscourts.vtd.18657.122.0.txt', 'gov.uscourts.mad.127997.28.0.txt', 'gov.uscourts.wied.45575.1186.0.txt', 'gov.uscourts.cand.197984.2000.0.txt', 'gov.uscourts.ilcd.40681.4.0.txt', 'gov.uscourts.insd.41796.150.0.txt', 'gov.uscourts.cand.192753.140.0.txt', 'gov.uscourts.tnwd.61189.33.0.txt', 'gov.uscourts.cand.192674.236.0.txt', 'gov.uscourts.cand.196504.35.0.txt', 'gov.uscourts.flsd.393904.46.0.txt', 'gov.uscourts.cofc.16889.63.0.txt', 'gov.uscourts.txed.127304.89.0.txt', 'gov.uscourts.nyed.309421.10.0.txt', 'gov.uscourts.casd.253104.13.0.txt', 'gov.uscourts.utd.18110.59.0.txt', 'gov.uscourts.miwd.5376.104.0.txt', 'gov.uscourts.ded.8183.134.0.txt', 'gov.uscourts.rid.41576.25.0.txt', 'gov.uscourts.nysd.316362.313.0.txt', 'gov.uscourts.nysd.316362.312.0.txt', 'gov.uscourts.mad.98545.6.0.txt', 'gov.uscourts.nhd.45295.18.0.txt', 'gov.uscourts.cand.34465.234.0.txt', 'gov.uscourts.nysd.330523.585.0.txt', 'gov.uscourts.utd.81811.60.0.txt', 'gov.uscourts.utd.81811.59.0.txt', 'gov.uscourts.mssd.78233.38.0.txt', 'gov.uscourts.txed.104068.190.0.txt', 'gov.uscourts.med.49305.34.0.txt', 'gov.uscourts.ded.8666.105.0.txt', 'gov.uscourts.nysd.315289.102.0.txt', 'gov.uscourts.lamd.50409.19.0.txt', 'gov.uscourts.mied.317381.31.0.txt', 'gov.uscourts.txsd.691059.19.0.txt', 'gov.uscourts.flmd.305522.3.0.txt', 'gov.uscourts.casd.256908.58.0.txt', 'gov.uscourts.arwd.34777.24.0.txt', 'gov.uscourts.wawd.214849.101.0.txt', 'gov.uscourts.pawd.2688.29.0.txt', 'gov.uscourts.txed.119083.107.0.txt', 'gov.uscourts.txnd.143219.17.0.txt', 'gov.uscourts.txnd.143219.19.0.txt', 'gov.uscourts.okwd.69088.18.0.txt', 'gov.uscourts.idd.22192.163.0.txt', 'gov.uscourts.msnd.33061.106.0.txt', 'gov.uscourts.flsd.505840.11.0.txt', 'gov.uscourts.vaed.271949.1032.0.txt', 'gov.uscourts.vaed.271949.979.0.txt', 'gov.uscourts.gand.199351.87.0.txt', 'gov.uscourts.ksd.100034.4.0.txt', 'gov.uscourts.gand.220241.19.0.txt', 'gov.uscourts.idd.18044.15.0.txt', 'gov.uscourts.azd.653020.14.0.txt', 'gov.uscourts.ded.7515.247.0.txt', 'gov.uscourts.ded.7515.263.0.txt', 'gov.uscourts.ded.7515.246.0.txt', 'gov.uscourts.flsd.522563.197.0.txt'], 'predict': ['grant', 'grant', 'grant', 'grant', 'grant', 'grant', 'grant', 'grant', 'grant', 'deny', 'grant', 'grant', 'grant', 'grant', 'grant', 'grant', 'grant', 'grant', 'grant', 'grant', 'grant', 'grant', 'grant', 'grant', 'grant', 'grant', 'deny', 'grant', 'grant', 'grant', 'deny', 'grant', 'grant', 'grant', 'grant', 'grant', 'grant', 'grant', 'grant', 'grant', 'grant', 'grant', 'grant', 'grant', 'grant', 'grant', 'grant', 'grant', 'grant', 'grant', 'grant', 'grant', 'grant', 'grant', 'grant', 'grant', 'grant', 'grant', 'grant', 'grant', 'grant', 'grant', 'grant', 'grant'], 'score': [0.5474978, 0.6014533, 0.6030767, 0.5676778, 0.6018406, 0.56653476, 0.60579765, 0.62870383, 0.6249314, 0.41316786, 0.63903385, 0.60197794, 0.6100493, 0.5813862, 0.5799035, 0.52980214, 0.5955994, 0.61390877, 0.63680923, 0.57184154, 0.5777459, 0.609121, 0.6237242, 0.5932458, 0.5929585, 0.5859544, 0.45434403, 0.6259436, 0.5562968, 0.5998474, 0.4952132, 0.6329218, 0.621986, 0.6228497, 0.57381797, 0.5878382, 0.6130864, 0.60866123, 0.65071464, 0.54853785, 0.6198476, 0.59668535, 0.57489514, 0.62429464, 0.6150123, 0.58972836, 0.60095584, 0.5733088, 0.6006305, 0.5467964, 0.6004232, 0.6123827, 0.5642446, 0.60995257, 0.59606546, 0.5964166, 0.62603056, 0.63205975, 0.5990587, 0.62184167, 0.540965, 0.58218527, 0.56509143, 0.51578814], 'truth': ['deny', 'grant', 'deny', 'grant', 'grant', 'grant', 'grant', 'grant', 'deny', 'grant', 'deny', 'deny', 'deny', 'deny', 'deny', 'grant', 'deny', 'grant', 'grant', 'deny', 'grant', 'grant', 'deny', 'grant', 'deny', 'grant', 'grant', 'grant', 'grant', 'deny', 'deny', 'deny', 'deny', 'deny', 'grant', 'deny', 'grant', 'grant', 'deny', 'grant', 'grant', 'grant', 'deny', 'grant', 'deny', 'grant', 'grant', 'grant', 'grant', 'deny', 'deny', 'grant', 'deny', 'deny', 'deny', 'deny', 'grant', 'deny', 'grant', 'grant', 'grant', 'grant', 'grant', 'grant']}}\n",
      "Epoch 3 completed\n",
      "Accuracy: {'accuracy': 0.7003891050583657}\n",
      "loss : 0.5740583582903988\n",
      "Evaluating model on test set\n",
      "{'accuracy': 0.5, 'precision': 0.5714285714285714, 'recall': 0.4444444444444444, 'csv': {'brief': ['gov.uscourts.utd.17917.1108.0.txt', 'gov.uscourts.txnd.179161.24.0.txt', 'gov.uscourts.flsd.461950.22.0.txt', 'gov.uscourts.azd.1031122.135.0.txt', 'gov.uscourts.mad.149048.35.0.txt', 'gov.uscourts.vaed.284235.179.0.txt', 'gov.uscourts.vtd.18657.122.0.txt', 'gov.uscourts.mad.127997.28.0.txt', 'gov.uscourts.wied.45575.1186.0.txt', 'gov.uscourts.cand.197984.2000.0.txt', 'gov.uscourts.ilcd.40681.4.0.txt', 'gov.uscourts.insd.41796.150.0.txt', 'gov.uscourts.cand.192753.140.0.txt', 'gov.uscourts.tnwd.61189.33.0.txt', 'gov.uscourts.cand.192674.236.0.txt', 'gov.uscourts.cand.196504.35.0.txt', 'gov.uscourts.flsd.393904.46.0.txt', 'gov.uscourts.cofc.16889.63.0.txt', 'gov.uscourts.txed.127304.89.0.txt', 'gov.uscourts.nyed.309421.10.0.txt', 'gov.uscourts.casd.253104.13.0.txt', 'gov.uscourts.utd.18110.59.0.txt', 'gov.uscourts.miwd.5376.104.0.txt', 'gov.uscourts.ded.8183.134.0.txt', 'gov.uscourts.rid.41576.25.0.txt', 'gov.uscourts.nysd.316362.313.0.txt', 'gov.uscourts.nysd.316362.312.0.txt', 'gov.uscourts.mad.98545.6.0.txt', 'gov.uscourts.nhd.45295.18.0.txt', 'gov.uscourts.cand.34465.234.0.txt', 'gov.uscourts.nysd.330523.585.0.txt', 'gov.uscourts.utd.81811.60.0.txt', 'gov.uscourts.utd.81811.59.0.txt', 'gov.uscourts.mssd.78233.38.0.txt', 'gov.uscourts.txed.104068.190.0.txt', 'gov.uscourts.med.49305.34.0.txt', 'gov.uscourts.ded.8666.105.0.txt', 'gov.uscourts.nysd.315289.102.0.txt', 'gov.uscourts.lamd.50409.19.0.txt', 'gov.uscourts.mied.317381.31.0.txt', 'gov.uscourts.txsd.691059.19.0.txt', 'gov.uscourts.flmd.305522.3.0.txt', 'gov.uscourts.casd.256908.58.0.txt', 'gov.uscourts.arwd.34777.24.0.txt', 'gov.uscourts.wawd.214849.101.0.txt', 'gov.uscourts.pawd.2688.29.0.txt', 'gov.uscourts.txed.119083.107.0.txt', 'gov.uscourts.txnd.143219.17.0.txt', 'gov.uscourts.txnd.143219.19.0.txt', 'gov.uscourts.okwd.69088.18.0.txt', 'gov.uscourts.idd.22192.163.0.txt', 'gov.uscourts.msnd.33061.106.0.txt', 'gov.uscourts.flsd.505840.11.0.txt', 'gov.uscourts.vaed.271949.1032.0.txt', 'gov.uscourts.vaed.271949.979.0.txt', 'gov.uscourts.gand.199351.87.0.txt', 'gov.uscourts.ksd.100034.4.0.txt', 'gov.uscourts.gand.220241.19.0.txt', 'gov.uscourts.idd.18044.15.0.txt', 'gov.uscourts.azd.653020.14.0.txt', 'gov.uscourts.ded.7515.247.0.txt', 'gov.uscourts.ded.7515.263.0.txt', 'gov.uscourts.ded.7515.246.0.txt', 'gov.uscourts.flsd.522563.197.0.txt'], 'predict': ['deny', 'deny', 'deny', 'deny', 'deny', 'deny', 'grant', 'grant', 'grant', 'deny', 'grant', 'grant', 'grant', 'deny', 'deny', 'grant', 'deny', 'grant', 'grant', 'deny', 'deny', 'deny', 'grant', 'grant', 'grant', 'deny', 'deny', 'grant', 'deny', 'deny', 'grant', 'grant', 'deny', 'grant', 'deny', 'grant', 'grant', 'grant', 'grant', 'grant', 'grant', 'deny', 'deny', 'deny', 'deny', 'deny', 'grant', 'grant', 'deny', 'deny', 'deny', 'deny', 'deny', 'deny', 'deny', 'deny', 'grant', 'grant', 'grant', 'grant', 'deny', 'deny', 'deny', 'deny'], 'score': [0.3902578, 0.37020445, 0.41725498, 0.21229674, 0.31833816, 0.397545, 0.6400743, 0.790265, 0.64083743, 0.009728829, 0.63836724, 0.6303231, 0.78543013, 0.13561775, 0.49417374, 0.64600635, 0.21286169, 0.51409477, 0.58849853, 0.41626906, 0.14580812, 0.26353407, 0.5949716, 0.55426925, 0.5535647, 0.48331487, 0.07923469, 0.5897386, 0.15586603, 0.47881368, 0.5151935, 0.6239467, 0.21369769, 0.7369637, 0.2372108, 0.5557679, 0.55608743, 0.6372545, 0.6910406, 0.52683747, 0.681792, 0.13997647, 0.041395504, 0.29408374, 0.2931711, 0.40711796, 0.5602356, 0.71817994, 0.2898414, 0.4842866, 0.24940799, 0.46409607, 0.1202288, 0.25215632, 0.18296535, 0.13773878, 0.65592754, 0.52481097, 0.65012527, 0.81827784, 0.055612616, 0.41399312, 0.06171367, 0.085198484], 'truth': ['deny', 'grant', 'deny', 'grant', 'grant', 'grant', 'grant', 'grant', 'deny', 'grant', 'deny', 'deny', 'deny', 'deny', 'deny', 'grant', 'deny', 'grant', 'grant', 'deny', 'grant', 'grant', 'deny', 'grant', 'deny', 'grant', 'grant', 'grant', 'grant', 'deny', 'deny', 'deny', 'deny', 'deny', 'grant', 'deny', 'grant', 'grant', 'deny', 'grant', 'grant', 'grant', 'deny', 'grant', 'deny', 'grant', 'grant', 'grant', 'grant', 'deny', 'deny', 'grant', 'deny', 'deny', 'deny', 'deny', 'grant', 'deny', 'grant', 'grant', 'grant', 'grant', 'grant', 'grant']}}\n",
      "Epoch 4 completed\n",
      "Accuracy: {'accuracy': 0.8171206225680934}\n",
      "loss : 0.4136900493456412\n",
      "Evaluating model on test set\n",
      "{'accuracy': 0.53125, 'precision': 0.55, 'recall': 0.9166666666666666, 'csv': {'brief': ['gov.uscourts.utd.17917.1108.0.txt', 'gov.uscourts.txnd.179161.24.0.txt', 'gov.uscourts.flsd.461950.22.0.txt', 'gov.uscourts.azd.1031122.135.0.txt', 'gov.uscourts.mad.149048.35.0.txt', 'gov.uscourts.vaed.284235.179.0.txt', 'gov.uscourts.vtd.18657.122.0.txt', 'gov.uscourts.mad.127997.28.0.txt', 'gov.uscourts.wied.45575.1186.0.txt', 'gov.uscourts.cand.197984.2000.0.txt', 'gov.uscourts.ilcd.40681.4.0.txt', 'gov.uscourts.insd.41796.150.0.txt', 'gov.uscourts.cand.192753.140.0.txt', 'gov.uscourts.tnwd.61189.33.0.txt', 'gov.uscourts.cand.192674.236.0.txt', 'gov.uscourts.cand.196504.35.0.txt', 'gov.uscourts.flsd.393904.46.0.txt', 'gov.uscourts.cofc.16889.63.0.txt', 'gov.uscourts.txed.127304.89.0.txt', 'gov.uscourts.nyed.309421.10.0.txt', 'gov.uscourts.casd.253104.13.0.txt', 'gov.uscourts.utd.18110.59.0.txt', 'gov.uscourts.miwd.5376.104.0.txt', 'gov.uscourts.ded.8183.134.0.txt', 'gov.uscourts.rid.41576.25.0.txt', 'gov.uscourts.nysd.316362.313.0.txt', 'gov.uscourts.nysd.316362.312.0.txt', 'gov.uscourts.mad.98545.6.0.txt', 'gov.uscourts.nhd.45295.18.0.txt', 'gov.uscourts.cand.34465.234.0.txt', 'gov.uscourts.nysd.330523.585.0.txt', 'gov.uscourts.utd.81811.60.0.txt', 'gov.uscourts.utd.81811.59.0.txt', 'gov.uscourts.mssd.78233.38.0.txt', 'gov.uscourts.txed.104068.190.0.txt', 'gov.uscourts.med.49305.34.0.txt', 'gov.uscourts.ded.8666.105.0.txt', 'gov.uscourts.nysd.315289.102.0.txt', 'gov.uscourts.lamd.50409.19.0.txt', 'gov.uscourts.mied.317381.31.0.txt', 'gov.uscourts.txsd.691059.19.0.txt', 'gov.uscourts.flmd.305522.3.0.txt', 'gov.uscourts.casd.256908.58.0.txt', 'gov.uscourts.arwd.34777.24.0.txt', 'gov.uscourts.wawd.214849.101.0.txt', 'gov.uscourts.pawd.2688.29.0.txt', 'gov.uscourts.txed.119083.107.0.txt', 'gov.uscourts.txnd.143219.17.0.txt', 'gov.uscourts.txnd.143219.19.0.txt', 'gov.uscourts.okwd.69088.18.0.txt', 'gov.uscourts.idd.22192.163.0.txt', 'gov.uscourts.msnd.33061.106.0.txt', 'gov.uscourts.flsd.505840.11.0.txt', 'gov.uscourts.vaed.271949.1032.0.txt', 'gov.uscourts.vaed.271949.979.0.txt', 'gov.uscourts.gand.199351.87.0.txt', 'gov.uscourts.ksd.100034.4.0.txt', 'gov.uscourts.gand.220241.19.0.txt', 'gov.uscourts.idd.18044.15.0.txt', 'gov.uscourts.azd.653020.14.0.txt', 'gov.uscourts.ded.7515.247.0.txt', 'gov.uscourts.ded.7515.263.0.txt', 'gov.uscourts.ded.7515.246.0.txt', 'gov.uscourts.flsd.522563.197.0.txt'], 'predict': ['grant', 'grant', 'grant', 'grant', 'grant', 'grant', 'grant', 'grant', 'grant', 'deny', 'grant', 'grant', 'grant', 'grant', 'grant', 'grant', 'grant', 'grant', 'grant', 'grant', 'deny', 'grant', 'grant', 'grant', 'grant', 'grant', 'deny', 'grant', 'grant', 'grant', 'grant', 'grant', 'grant', 'grant', 'grant', 'grant', 'grant', 'grant', 'grant', 'grant', 'grant', 'grant', 'grant', 'grant', 'grant', 'grant', 'grant', 'grant', 'grant', 'grant', 'deny', 'grant', 'grant', 'grant', 'grant', 'grant', 'grant', 'grant', 'grant', 'grant', 'grant', 'grant', 'grant', 'grant'], 'score': [0.8647198, 0.9928029, 0.93332994, 0.74313855, 0.85399663, 0.9332036, 0.78080827, 0.8983989, 0.91335577, 0.4207305, 0.9680464, 0.8664294, 0.9895716, 0.991478, 0.9250143, 0.9124202, 0.72054654, 0.8551957, 0.98059136, 0.99342805, 0.240255, 0.65612614, 0.88263154, 0.91244996, 0.95950305, 0.9632342, 0.09288076, 0.9379102, 0.54859155, 0.90049386, 0.9613375, 0.9718607, 0.8837313, 0.9768728, 0.60672903, 0.68805075, 0.9759823, 0.99734515, 0.889889, 0.98936146, 0.9578426, 0.9833414, 0.7325686, 0.80909485, 0.8055673, 0.89255345, 0.9260245, 0.9918996, 0.88627154, 0.51152754, 0.38786122, 0.8800748, 0.688718, 0.974794, 0.9674723, 0.9698305, 0.9532662, 0.50580305, 0.8764751, 0.5890745, 0.98309684, 0.9492755, 0.9740267, 0.9821524], 'truth': ['deny', 'grant', 'deny', 'grant', 'grant', 'grant', 'grant', 'grant', 'deny', 'grant', 'deny', 'deny', 'deny', 'deny', 'deny', 'grant', 'deny', 'grant', 'grant', 'deny', 'grant', 'grant', 'deny', 'grant', 'deny', 'grant', 'grant', 'grant', 'grant', 'deny', 'deny', 'deny', 'deny', 'deny', 'grant', 'deny', 'grant', 'grant', 'deny', 'grant', 'grant', 'grant', 'deny', 'grant', 'deny', 'grant', 'grant', 'grant', 'grant', 'deny', 'deny', 'grant', 'deny', 'deny', 'deny', 'deny', 'grant', 'deny', 'grant', 'grant', 'grant', 'grant', 'grant', 'grant']}}\n",
      "Epoch 5 completed\n",
      "Accuracy: {'accuracy': 0.8521400778210116}\n",
      "loss : 0.3665335124878343\n",
      "Evaluating model on test set\n",
      "{'accuracy': 0.40625, 'precision': 0.4375, 'recall': 0.19444444444444445, 'csv': {'brief': ['gov.uscourts.utd.17917.1108.0.txt', 'gov.uscourts.txnd.179161.24.0.txt', 'gov.uscourts.flsd.461950.22.0.txt', 'gov.uscourts.azd.1031122.135.0.txt', 'gov.uscourts.mad.149048.35.0.txt', 'gov.uscourts.vaed.284235.179.0.txt', 'gov.uscourts.vtd.18657.122.0.txt', 'gov.uscourts.mad.127997.28.0.txt', 'gov.uscourts.wied.45575.1186.0.txt', 'gov.uscourts.cand.197984.2000.0.txt', 'gov.uscourts.ilcd.40681.4.0.txt', 'gov.uscourts.insd.41796.150.0.txt', 'gov.uscourts.cand.192753.140.0.txt', 'gov.uscourts.tnwd.61189.33.0.txt', 'gov.uscourts.cand.192674.236.0.txt', 'gov.uscourts.cand.196504.35.0.txt', 'gov.uscourts.flsd.393904.46.0.txt', 'gov.uscourts.cofc.16889.63.0.txt', 'gov.uscourts.txed.127304.89.0.txt', 'gov.uscourts.nyed.309421.10.0.txt', 'gov.uscourts.casd.253104.13.0.txt', 'gov.uscourts.utd.18110.59.0.txt', 'gov.uscourts.miwd.5376.104.0.txt', 'gov.uscourts.ded.8183.134.0.txt', 'gov.uscourts.rid.41576.25.0.txt', 'gov.uscourts.nysd.316362.313.0.txt', 'gov.uscourts.nysd.316362.312.0.txt', 'gov.uscourts.mad.98545.6.0.txt', 'gov.uscourts.nhd.45295.18.0.txt', 'gov.uscourts.cand.34465.234.0.txt', 'gov.uscourts.nysd.330523.585.0.txt', 'gov.uscourts.utd.81811.60.0.txt', 'gov.uscourts.utd.81811.59.0.txt', 'gov.uscourts.mssd.78233.38.0.txt', 'gov.uscourts.txed.104068.190.0.txt', 'gov.uscourts.med.49305.34.0.txt', 'gov.uscourts.ded.8666.105.0.txt', 'gov.uscourts.nysd.315289.102.0.txt', 'gov.uscourts.lamd.50409.19.0.txt', 'gov.uscourts.mied.317381.31.0.txt', 'gov.uscourts.txsd.691059.19.0.txt', 'gov.uscourts.flmd.305522.3.0.txt', 'gov.uscourts.casd.256908.58.0.txt', 'gov.uscourts.arwd.34777.24.0.txt', 'gov.uscourts.wawd.214849.101.0.txt', 'gov.uscourts.pawd.2688.29.0.txt', 'gov.uscourts.txed.119083.107.0.txt', 'gov.uscourts.txnd.143219.17.0.txt', 'gov.uscourts.txnd.143219.19.0.txt', 'gov.uscourts.okwd.69088.18.0.txt', 'gov.uscourts.idd.22192.163.0.txt', 'gov.uscourts.msnd.33061.106.0.txt', 'gov.uscourts.flsd.505840.11.0.txt', 'gov.uscourts.vaed.271949.1032.0.txt', 'gov.uscourts.vaed.271949.979.0.txt', 'gov.uscourts.gand.199351.87.0.txt', 'gov.uscourts.ksd.100034.4.0.txt', 'gov.uscourts.gand.220241.19.0.txt', 'gov.uscourts.idd.18044.15.0.txt', 'gov.uscourts.azd.653020.14.0.txt', 'gov.uscourts.ded.7515.247.0.txt', 'gov.uscourts.ded.7515.263.0.txt', 'gov.uscourts.ded.7515.246.0.txt', 'gov.uscourts.flsd.522563.197.0.txt'], 'predict': ['deny', 'deny', 'grant', 'deny', 'deny', 'deny', 'grant', 'deny', 'grant', 'deny', 'grant', 'deny', 'grant', 'deny', 'deny', 'deny', 'deny', 'grant', 'deny', 'deny', 'deny', 'deny', 'grant', 'deny', 'grant', 'deny', 'deny', 'deny', 'deny', 'deny', 'deny', 'deny', 'deny', 'grant', 'deny', 'deny', 'deny', 'deny', 'grant', 'deny', 'grant', 'deny', 'deny', 'grant', 'grant', 'grant', 'deny', 'deny', 'deny', 'deny', 'deny', 'grant', 'deny', 'deny', 'deny', 'deny', 'grant', 'deny', 'deny', 'deny', 'deny', 'deny', 'deny', 'deny'], 'score': [0.13601659, 0.2220663, 0.9072221, 0.048186164, 0.04946843, 0.048861317, 0.7592483, 0.19976497, 0.82090837, 0.030619321, 0.75192463, 0.015005303, 0.9230533, 0.008216044, 0.2607341, 0.05391214, 0.013045081, 0.6762618, 0.021299014, 0.051624276, 0.033451233, 0.14943984, 0.6521494, 0.0691915, 0.573574, 0.45830765, 0.021273766, 0.11410453, 0.017356023, 0.46838826, 0.06497225, 0.16465375, 0.050548267, 0.76486117, 0.033509634, 0.14876284, 0.3287783, 0.3370338, 0.5106723, 0.07292196, 0.9176738, 0.02916459, 0.016254107, 0.9205438, 0.5214895, 0.7316536, 0.13697347, 0.4716257, 0.25875223, 0.0075673866, 0.111435816, 0.76179594, 0.013288373, 0.0119977165, 0.028804256, 0.01958309, 0.67966866, 0.22060004, 0.4067881, 0.3721232, 0.006433109, 0.058124974, 0.05884991, 0.030014107], 'truth': ['deny', 'grant', 'deny', 'grant', 'grant', 'grant', 'grant', 'grant', 'deny', 'grant', 'deny', 'deny', 'deny', 'deny', 'deny', 'grant', 'deny', 'grant', 'grant', 'deny', 'grant', 'grant', 'deny', 'grant', 'deny', 'grant', 'grant', 'grant', 'grant', 'deny', 'deny', 'deny', 'deny', 'deny', 'grant', 'deny', 'grant', 'grant', 'deny', 'grant', 'grant', 'grant', 'deny', 'grant', 'deny', 'grant', 'grant', 'grant', 'grant', 'deny', 'deny', 'grant', 'deny', 'deny', 'deny', 'deny', 'grant', 'deny', 'grant', 'grant', 'grant', 'grant', 'grant', 'grant']}}\n",
      "Epoch 6 completed\n",
      "Accuracy: {'accuracy': 0.9416342412451362}\n",
      "loss : 0.14486151632795097\n",
      "Evaluating model on test set\n",
      "{'accuracy': 0.484375, 'precision': 0.5405405405405406, 'recall': 0.5555555555555556, 'csv': {'brief': ['gov.uscourts.utd.17917.1108.0.txt', 'gov.uscourts.txnd.179161.24.0.txt', 'gov.uscourts.flsd.461950.22.0.txt', 'gov.uscourts.azd.1031122.135.0.txt', 'gov.uscourts.mad.149048.35.0.txt', 'gov.uscourts.vaed.284235.179.0.txt', 'gov.uscourts.vtd.18657.122.0.txt', 'gov.uscourts.mad.127997.28.0.txt', 'gov.uscourts.wied.45575.1186.0.txt', 'gov.uscourts.cand.197984.2000.0.txt', 'gov.uscourts.ilcd.40681.4.0.txt', 'gov.uscourts.insd.41796.150.0.txt', 'gov.uscourts.cand.192753.140.0.txt', 'gov.uscourts.tnwd.61189.33.0.txt', 'gov.uscourts.cand.192674.236.0.txt', 'gov.uscourts.cand.196504.35.0.txt', 'gov.uscourts.flsd.393904.46.0.txt', 'gov.uscourts.cofc.16889.63.0.txt', 'gov.uscourts.txed.127304.89.0.txt', 'gov.uscourts.nyed.309421.10.0.txt', 'gov.uscourts.casd.253104.13.0.txt', 'gov.uscourts.utd.18110.59.0.txt', 'gov.uscourts.miwd.5376.104.0.txt', 'gov.uscourts.ded.8183.134.0.txt', 'gov.uscourts.rid.41576.25.0.txt', 'gov.uscourts.nysd.316362.313.0.txt', 'gov.uscourts.nysd.316362.312.0.txt', 'gov.uscourts.mad.98545.6.0.txt', 'gov.uscourts.nhd.45295.18.0.txt', 'gov.uscourts.cand.34465.234.0.txt', 'gov.uscourts.nysd.330523.585.0.txt', 'gov.uscourts.utd.81811.60.0.txt', 'gov.uscourts.utd.81811.59.0.txt', 'gov.uscourts.mssd.78233.38.0.txt', 'gov.uscourts.txed.104068.190.0.txt', 'gov.uscourts.med.49305.34.0.txt', 'gov.uscourts.ded.8666.105.0.txt', 'gov.uscourts.nysd.315289.102.0.txt', 'gov.uscourts.lamd.50409.19.0.txt', 'gov.uscourts.mied.317381.31.0.txt', 'gov.uscourts.txsd.691059.19.0.txt', 'gov.uscourts.flmd.305522.3.0.txt', 'gov.uscourts.casd.256908.58.0.txt', 'gov.uscourts.arwd.34777.24.0.txt', 'gov.uscourts.wawd.214849.101.0.txt', 'gov.uscourts.pawd.2688.29.0.txt', 'gov.uscourts.txed.119083.107.0.txt', 'gov.uscourts.txnd.143219.17.0.txt', 'gov.uscourts.txnd.143219.19.0.txt', 'gov.uscourts.okwd.69088.18.0.txt', 'gov.uscourts.idd.22192.163.0.txt', 'gov.uscourts.msnd.33061.106.0.txt', 'gov.uscourts.flsd.505840.11.0.txt', 'gov.uscourts.vaed.271949.1032.0.txt', 'gov.uscourts.vaed.271949.979.0.txt', 'gov.uscourts.gand.199351.87.0.txt', 'gov.uscourts.ksd.100034.4.0.txt', 'gov.uscourts.gand.220241.19.0.txt', 'gov.uscourts.idd.18044.15.0.txt', 'gov.uscourts.azd.653020.14.0.txt', 'gov.uscourts.ded.7515.247.0.txt', 'gov.uscourts.ded.7515.263.0.txt', 'gov.uscourts.ded.7515.246.0.txt', 'gov.uscourts.flsd.522563.197.0.txt'], 'predict': ['deny', 'deny', 'grant', 'deny', 'deny', 'deny', 'grant', 'grant', 'grant', 'deny', 'grant', 'deny', 'grant', 'deny', 'grant', 'deny', 'deny', 'grant', 'grant', 'grant', 'deny', 'deny', 'grant', 'grant', 'grant', 'grant', 'deny', 'grant', 'deny', 'grant', 'deny', 'grant', 'deny', 'grant', 'deny', 'deny', 'grant', 'grant', 'grant', 'deny', 'grant', 'deny', 'deny', 'grant', 'grant', 'grant', 'grant', 'grant', 'grant', 'grant', 'deny', 'grant', 'grant', 'deny', 'deny', 'grant', 'grant', 'grant', 'grant', 'grant', 'deny', 'grant', 'deny', 'deny'], 'score': [0.3186503, 0.41582555, 0.99203414, 0.33539176, 0.25686905, 0.09512468, 0.9799549, 0.93241286, 0.9737161, 0.046026424, 0.9945956, 0.12582387, 0.98099524, 0.06927457, 0.8998903, 0.00197021, 0.024258664, 0.78300107, 0.9670041, 0.9412807, 0.0809841, 0.28199574, 0.7727724, 0.66937256, 0.9069379, 0.9823829, 0.022106964, 0.7958327, 0.06668829, 0.6320501, 0.08578199, 0.5740297, 0.084774934, 0.8209486, 0.03343621, 0.29197276, 0.5636407, 0.9879924, 0.78688973, 0.17687544, 0.9749512, 0.26210505, 0.057081945, 0.95174706, 0.99459016, 0.8245912, 0.58595914, 0.8781402, 0.5694066, 0.6607309, 0.13601281, 0.729712, 0.5728682, 0.032630753, 0.37473732, 0.623214, 0.9393753, 0.7367431, 0.6686803, 0.8712216, 0.009783285, 0.71177965, 0.09667728, 0.10029142], 'truth': ['deny', 'grant', 'deny', 'grant', 'grant', 'grant', 'grant', 'grant', 'deny', 'grant', 'deny', 'deny', 'deny', 'deny', 'deny', 'grant', 'deny', 'grant', 'grant', 'deny', 'grant', 'grant', 'deny', 'grant', 'deny', 'grant', 'grant', 'grant', 'grant', 'deny', 'deny', 'deny', 'deny', 'deny', 'grant', 'deny', 'grant', 'grant', 'deny', 'grant', 'grant', 'grant', 'deny', 'grant', 'deny', 'grant', 'grant', 'grant', 'grant', 'deny', 'deny', 'grant', 'deny', 'deny', 'deny', 'deny', 'grant', 'deny', 'grant', 'grant', 'grant', 'grant', 'grant', 'grant']}}\n",
      "Epoch 7 completed\n",
      "Accuracy: {'accuracy': 0.9922178988326849}\n",
      "loss : 0.04896977646168062\n",
      "Evaluating model on test set\n",
      "{'accuracy': 0.515625, 'precision': 0.5714285714285714, 'recall': 0.5555555555555556, 'csv': {'brief': ['gov.uscourts.utd.17917.1108.0.txt', 'gov.uscourts.txnd.179161.24.0.txt', 'gov.uscourts.flsd.461950.22.0.txt', 'gov.uscourts.azd.1031122.135.0.txt', 'gov.uscourts.mad.149048.35.0.txt', 'gov.uscourts.vaed.284235.179.0.txt', 'gov.uscourts.vtd.18657.122.0.txt', 'gov.uscourts.mad.127997.28.0.txt', 'gov.uscourts.wied.45575.1186.0.txt', 'gov.uscourts.cand.197984.2000.0.txt', 'gov.uscourts.ilcd.40681.4.0.txt', 'gov.uscourts.insd.41796.150.0.txt', 'gov.uscourts.cand.192753.140.0.txt', 'gov.uscourts.tnwd.61189.33.0.txt', 'gov.uscourts.cand.192674.236.0.txt', 'gov.uscourts.cand.196504.35.0.txt', 'gov.uscourts.flsd.393904.46.0.txt', 'gov.uscourts.cofc.16889.63.0.txt', 'gov.uscourts.txed.127304.89.0.txt', 'gov.uscourts.nyed.309421.10.0.txt', 'gov.uscourts.casd.253104.13.0.txt', 'gov.uscourts.utd.18110.59.0.txt', 'gov.uscourts.miwd.5376.104.0.txt', 'gov.uscourts.ded.8183.134.0.txt', 'gov.uscourts.rid.41576.25.0.txt', 'gov.uscourts.nysd.316362.313.0.txt', 'gov.uscourts.nysd.316362.312.0.txt', 'gov.uscourts.mad.98545.6.0.txt', 'gov.uscourts.nhd.45295.18.0.txt', 'gov.uscourts.cand.34465.234.0.txt', 'gov.uscourts.nysd.330523.585.0.txt', 'gov.uscourts.utd.81811.60.0.txt', 'gov.uscourts.utd.81811.59.0.txt', 'gov.uscourts.mssd.78233.38.0.txt', 'gov.uscourts.txed.104068.190.0.txt', 'gov.uscourts.med.49305.34.0.txt', 'gov.uscourts.ded.8666.105.0.txt', 'gov.uscourts.nysd.315289.102.0.txt', 'gov.uscourts.lamd.50409.19.0.txt', 'gov.uscourts.mied.317381.31.0.txt', 'gov.uscourts.txsd.691059.19.0.txt', 'gov.uscourts.flmd.305522.3.0.txt', 'gov.uscourts.casd.256908.58.0.txt', 'gov.uscourts.arwd.34777.24.0.txt', 'gov.uscourts.wawd.214849.101.0.txt', 'gov.uscourts.pawd.2688.29.0.txt', 'gov.uscourts.txed.119083.107.0.txt', 'gov.uscourts.txnd.143219.17.0.txt', 'gov.uscourts.txnd.143219.19.0.txt', 'gov.uscourts.okwd.69088.18.0.txt', 'gov.uscourts.idd.22192.163.0.txt', 'gov.uscourts.msnd.33061.106.0.txt', 'gov.uscourts.flsd.505840.11.0.txt', 'gov.uscourts.vaed.271949.1032.0.txt', 'gov.uscourts.vaed.271949.979.0.txt', 'gov.uscourts.gand.199351.87.0.txt', 'gov.uscourts.ksd.100034.4.0.txt', 'gov.uscourts.gand.220241.19.0.txt', 'gov.uscourts.idd.18044.15.0.txt', 'gov.uscourts.azd.653020.14.0.txt', 'gov.uscourts.ded.7515.247.0.txt', 'gov.uscourts.ded.7515.263.0.txt', 'gov.uscourts.ded.7515.246.0.txt', 'gov.uscourts.flsd.522563.197.0.txt'], 'predict': ['deny', 'deny', 'grant', 'deny', 'deny', 'deny', 'grant', 'grant', 'grant', 'deny', 'grant', 'deny', 'grant', 'deny', 'grant', 'deny', 'deny', 'grant', 'grant', 'grant', 'deny', 'deny', 'grant', 'grant', 'grant', 'grant', 'deny', 'grant', 'deny', 'grant', 'deny', 'deny', 'deny', 'grant', 'deny', 'deny', 'grant', 'grant', 'grant', 'deny', 'grant', 'deny', 'deny', 'grant', 'grant', 'grant', 'grant', 'grant', 'grant', 'deny', 'deny', 'grant', 'grant', 'deny', 'deny', 'grant', 'grant', 'grant', 'grant', 'grant', 'deny', 'grant', 'deny', 'deny'], 'score': [0.42093727, 0.49411887, 0.99962807, 0.25321588, 0.33600554, 0.30870536, 0.9791045, 0.96376956, 0.9965699, 0.06563567, 0.9973869, 0.12588853, 0.9984914, 0.022335961, 0.9855661, 0.0023945088, 0.008032195, 0.88778454, 0.99491465, 0.98430485, 0.08322104, 0.4851581, 0.8123434, 0.67081344, 0.9708245, 0.9961116, 0.019177197, 0.92272073, 0.02962431, 0.9782135, 0.14496991, 0.49033874, 0.06913144, 0.8466004, 0.009922244, 0.4860547, 0.99745804, 0.9881691, 0.9112254, 0.21929632, 0.9956429, 0.30119386, 0.08325045, 0.9858326, 0.9991412, 0.86917216, 0.932873, 0.9950281, 0.8487821, 0.378529, 0.1279449, 0.892777, 0.5446341, 0.046479296, 0.2957461, 0.54402936, 0.97878337, 0.85295033, 0.78701156, 0.8144752, 0.005081876, 0.5095808, 0.037078876, 0.037729844], 'truth': ['deny', 'grant', 'deny', 'grant', 'grant', 'grant', 'grant', 'grant', 'deny', 'grant', 'deny', 'deny', 'deny', 'deny', 'deny', 'grant', 'deny', 'grant', 'grant', 'deny', 'grant', 'grant', 'deny', 'grant', 'deny', 'grant', 'grant', 'grant', 'grant', 'deny', 'deny', 'deny', 'deny', 'deny', 'grant', 'deny', 'grant', 'grant', 'deny', 'grant', 'grant', 'grant', 'deny', 'grant', 'deny', 'grant', 'grant', 'grant', 'grant', 'deny', 'deny', 'grant', 'deny', 'deny', 'deny', 'deny', 'grant', 'deny', 'grant', 'grant', 'grant', 'grant', 'grant', 'grant']}}\n",
      "Epoch 8 completed\n",
      "Accuracy: {'accuracy': 0.9844357976653697}\n",
      "loss : 0.05140096654117382\n",
      "Evaluating model on test set\n",
      "{'accuracy': 0.5, 'precision': 0.625, 'recall': 0.2777777777777778, 'csv': {'brief': ['gov.uscourts.utd.17917.1108.0.txt', 'gov.uscourts.txnd.179161.24.0.txt', 'gov.uscourts.flsd.461950.22.0.txt', 'gov.uscourts.azd.1031122.135.0.txt', 'gov.uscourts.mad.149048.35.0.txt', 'gov.uscourts.vaed.284235.179.0.txt', 'gov.uscourts.vtd.18657.122.0.txt', 'gov.uscourts.mad.127997.28.0.txt', 'gov.uscourts.wied.45575.1186.0.txt', 'gov.uscourts.cand.197984.2000.0.txt', 'gov.uscourts.ilcd.40681.4.0.txt', 'gov.uscourts.insd.41796.150.0.txt', 'gov.uscourts.cand.192753.140.0.txt', 'gov.uscourts.tnwd.61189.33.0.txt', 'gov.uscourts.cand.192674.236.0.txt', 'gov.uscourts.cand.196504.35.0.txt', 'gov.uscourts.flsd.393904.46.0.txt', 'gov.uscourts.cofc.16889.63.0.txt', 'gov.uscourts.txed.127304.89.0.txt', 'gov.uscourts.nyed.309421.10.0.txt', 'gov.uscourts.casd.253104.13.0.txt', 'gov.uscourts.utd.18110.59.0.txt', 'gov.uscourts.miwd.5376.104.0.txt', 'gov.uscourts.ded.8183.134.0.txt', 'gov.uscourts.rid.41576.25.0.txt', 'gov.uscourts.nysd.316362.313.0.txt', 'gov.uscourts.nysd.316362.312.0.txt', 'gov.uscourts.mad.98545.6.0.txt', 'gov.uscourts.nhd.45295.18.0.txt', 'gov.uscourts.cand.34465.234.0.txt', 'gov.uscourts.nysd.330523.585.0.txt', 'gov.uscourts.utd.81811.60.0.txt', 'gov.uscourts.utd.81811.59.0.txt', 'gov.uscourts.mssd.78233.38.0.txt', 'gov.uscourts.txed.104068.190.0.txt', 'gov.uscourts.med.49305.34.0.txt', 'gov.uscourts.ded.8666.105.0.txt', 'gov.uscourts.nysd.315289.102.0.txt', 'gov.uscourts.lamd.50409.19.0.txt', 'gov.uscourts.mied.317381.31.0.txt', 'gov.uscourts.txsd.691059.19.0.txt', 'gov.uscourts.flmd.305522.3.0.txt', 'gov.uscourts.casd.256908.58.0.txt', 'gov.uscourts.arwd.34777.24.0.txt', 'gov.uscourts.wawd.214849.101.0.txt', 'gov.uscourts.pawd.2688.29.0.txt', 'gov.uscourts.txed.119083.107.0.txt', 'gov.uscourts.txnd.143219.17.0.txt', 'gov.uscourts.txnd.143219.19.0.txt', 'gov.uscourts.okwd.69088.18.0.txt', 'gov.uscourts.idd.22192.163.0.txt', 'gov.uscourts.msnd.33061.106.0.txt', 'gov.uscourts.flsd.505840.11.0.txt', 'gov.uscourts.vaed.271949.1032.0.txt', 'gov.uscourts.vaed.271949.979.0.txt', 'gov.uscourts.gand.199351.87.0.txt', 'gov.uscourts.ksd.100034.4.0.txt', 'gov.uscourts.gand.220241.19.0.txt', 'gov.uscourts.idd.18044.15.0.txt', 'gov.uscourts.azd.653020.14.0.txt', 'gov.uscourts.ded.7515.247.0.txt', 'gov.uscourts.ded.7515.263.0.txt', 'gov.uscourts.ded.7515.246.0.txt', 'gov.uscourts.flsd.522563.197.0.txt'], 'predict': ['deny', 'deny', 'grant', 'deny', 'deny', 'deny', 'grant', 'grant', 'deny', 'deny', 'deny', 'deny', 'deny', 'deny', 'grant', 'deny', 'deny', 'grant', 'deny', 'deny', 'deny', 'deny', 'deny', 'deny', 'grant', 'grant', 'deny', 'deny', 'deny', 'grant', 'deny', 'deny', 'deny', 'grant', 'deny', 'deny', 'deny', 'deny', 'deny', 'deny', 'grant', 'deny', 'deny', 'grant', 'grant', 'grant', 'deny', 'grant', 'deny', 'deny', 'deny', 'grant', 'deny', 'deny', 'deny', 'deny', 'grant', 'deny', 'deny', 'deny', 'deny', 'deny', 'deny', 'deny'], 'score': [0.25803274, 0.14333835, 0.95313424, 0.14056824, 0.010638771, 0.04966175, 0.8591898, 0.89118683, 0.4057299, 0.0025240327, 0.20130792, 0.02491929, 0.4006331, 0.0027015435, 0.5800683, 0.00095894624, 0.00066016987, 0.5024284, 0.04192767, 0.33140945, 0.005928525, 0.25507376, 0.31974834, 0.19418465, 0.91312003, 0.7741654, 0.0049428563, 0.07466891, 0.010363832, 0.57203287, 0.03786969, 0.49987936, 0.030333461, 0.61935437, 0.0021600907, 0.0793509, 0.33123383, 0.36331916, 0.24026988, 0.0089999875, 0.85631996, 0.030032322, 0.011319232, 0.9827843, 0.9901843, 0.738197, 0.4322871, 0.87067354, 0.47548032, 0.04012907, 0.017413856, 0.7350793, 0.033914987, 0.008525861, 0.025703799, 0.038316663, 0.952669, 0.2800376, 0.47264713, 0.46057448, 0.00068014883, 0.016124224, 0.01384527, 0.041105215], 'truth': ['deny', 'grant', 'deny', 'grant', 'grant', 'grant', 'grant', 'grant', 'deny', 'grant', 'deny', 'deny', 'deny', 'deny', 'deny', 'grant', 'deny', 'grant', 'grant', 'deny', 'grant', 'grant', 'deny', 'grant', 'deny', 'grant', 'grant', 'grant', 'grant', 'deny', 'deny', 'deny', 'deny', 'deny', 'grant', 'deny', 'grant', 'grant', 'deny', 'grant', 'grant', 'grant', 'deny', 'grant', 'deny', 'grant', 'grant', 'grant', 'grant', 'deny', 'deny', 'grant', 'deny', 'deny', 'deny', 'deny', 'grant', 'deny', 'grant', 'grant', 'grant', 'grant', 'grant', 'grant']}}\n",
      "Epoch 9 completed\n",
      "Accuracy: {'accuracy': 0.9766536964980544}\n",
      "loss : 0.0760270083966564\n",
      "Evaluating model on test set\n",
      "{'accuracy': 0.578125, 'precision': 0.5849056603773585, 'recall': 0.8611111111111112, 'csv': {'brief': ['gov.uscourts.utd.17917.1108.0.txt', 'gov.uscourts.txnd.179161.24.0.txt', 'gov.uscourts.flsd.461950.22.0.txt', 'gov.uscourts.azd.1031122.135.0.txt', 'gov.uscourts.mad.149048.35.0.txt', 'gov.uscourts.vaed.284235.179.0.txt', 'gov.uscourts.vtd.18657.122.0.txt', 'gov.uscourts.mad.127997.28.0.txt', 'gov.uscourts.wied.45575.1186.0.txt', 'gov.uscourts.cand.197984.2000.0.txt', 'gov.uscourts.ilcd.40681.4.0.txt', 'gov.uscourts.insd.41796.150.0.txt', 'gov.uscourts.cand.192753.140.0.txt', 'gov.uscourts.tnwd.61189.33.0.txt', 'gov.uscourts.cand.192674.236.0.txt', 'gov.uscourts.cand.196504.35.0.txt', 'gov.uscourts.flsd.393904.46.0.txt', 'gov.uscourts.cofc.16889.63.0.txt', 'gov.uscourts.txed.127304.89.0.txt', 'gov.uscourts.nyed.309421.10.0.txt', 'gov.uscourts.casd.253104.13.0.txt', 'gov.uscourts.utd.18110.59.0.txt', 'gov.uscourts.miwd.5376.104.0.txt', 'gov.uscourts.ded.8183.134.0.txt', 'gov.uscourts.rid.41576.25.0.txt', 'gov.uscourts.nysd.316362.313.0.txt', 'gov.uscourts.nysd.316362.312.0.txt', 'gov.uscourts.mad.98545.6.0.txt', 'gov.uscourts.nhd.45295.18.0.txt', 'gov.uscourts.cand.34465.234.0.txt', 'gov.uscourts.nysd.330523.585.0.txt', 'gov.uscourts.utd.81811.60.0.txt', 'gov.uscourts.utd.81811.59.0.txt', 'gov.uscourts.mssd.78233.38.0.txt', 'gov.uscourts.txed.104068.190.0.txt', 'gov.uscourts.med.49305.34.0.txt', 'gov.uscourts.ded.8666.105.0.txt', 'gov.uscourts.nysd.315289.102.0.txt', 'gov.uscourts.lamd.50409.19.0.txt', 'gov.uscourts.mied.317381.31.0.txt', 'gov.uscourts.txsd.691059.19.0.txt', 'gov.uscourts.flmd.305522.3.0.txt', 'gov.uscourts.casd.256908.58.0.txt', 'gov.uscourts.arwd.34777.24.0.txt', 'gov.uscourts.wawd.214849.101.0.txt', 'gov.uscourts.pawd.2688.29.0.txt', 'gov.uscourts.txed.119083.107.0.txt', 'gov.uscourts.txnd.143219.17.0.txt', 'gov.uscourts.txnd.143219.19.0.txt', 'gov.uscourts.okwd.69088.18.0.txt', 'gov.uscourts.idd.22192.163.0.txt', 'gov.uscourts.msnd.33061.106.0.txt', 'gov.uscourts.flsd.505840.11.0.txt', 'gov.uscourts.vaed.271949.1032.0.txt', 'gov.uscourts.vaed.271949.979.0.txt', 'gov.uscourts.gand.199351.87.0.txt', 'gov.uscourts.ksd.100034.4.0.txt', 'gov.uscourts.gand.220241.19.0.txt', 'gov.uscourts.idd.18044.15.0.txt', 'gov.uscourts.azd.653020.14.0.txt', 'gov.uscourts.ded.7515.247.0.txt', 'gov.uscourts.ded.7515.263.0.txt', 'gov.uscourts.ded.7515.246.0.txt', 'gov.uscourts.flsd.522563.197.0.txt'], 'predict': ['grant', 'grant', 'grant', 'grant', 'grant', 'deny', 'grant', 'grant', 'grant', 'grant', 'grant', 'grant', 'grant', 'grant', 'grant', 'deny', 'deny', 'grant', 'grant', 'grant', 'grant', 'grant', 'grant', 'grant', 'grant', 'grant', 'deny', 'grant', 'grant', 'grant', 'deny', 'grant', 'grant', 'grant', 'grant', 'grant', 'grant', 'grant', 'grant', 'deny', 'grant', 'grant', 'grant', 'grant', 'grant', 'grant', 'grant', 'grant', 'grant', 'grant', 'deny', 'grant', 'grant', 'deny', 'deny', 'grant', 'grant', 'deny', 'grant', 'grant', 'deny', 'grant', 'grant', 'grant'], 'score': [0.5751693, 0.9744974, 0.9990088, 0.95578474, 0.6034379, 0.44952488, 0.9984913, 0.99797815, 0.9989791, 0.92442125, 0.999015, 0.9163245, 0.9997111, 0.9952969, 0.98118997, 0.00067351136, 0.28118843, 0.9626301, 0.9994618, 0.99489623, 0.8950199, 0.7107042, 0.97904223, 0.9778621, 0.9970798, 0.988483, 0.02797823, 0.9910523, 0.5336064, 0.9681226, 0.0981013, 0.9932759, 0.8185066, 0.97643626, 0.97969043, 0.72441566, 0.7826678, 0.98606235, 0.93785137, 0.44937274, 0.9977464, 0.9563136, 0.9113188, 0.99836177, 0.99973506, 0.9361714, 0.99196434, 0.99867624, 0.98427963, 0.8737975, 0.35961837, 0.99714595, 0.60952795, 0.010010574, 0.44609252, 0.96272707, 0.99928206, 0.1490942, 0.82930064, 0.991418, 0.0020729448, 0.56446576, 0.83301055, 0.9971263], 'truth': ['deny', 'grant', 'deny', 'grant', 'grant', 'grant', 'grant', 'grant', 'deny', 'grant', 'deny', 'deny', 'deny', 'deny', 'deny', 'grant', 'deny', 'grant', 'grant', 'deny', 'grant', 'grant', 'deny', 'grant', 'deny', 'grant', 'grant', 'grant', 'grant', 'deny', 'deny', 'deny', 'deny', 'deny', 'grant', 'deny', 'grant', 'grant', 'deny', 'grant', 'grant', 'grant', 'deny', 'grant', 'deny', 'grant', 'grant', 'grant', 'grant', 'deny', 'deny', 'grant', 'deny', 'deny', 'deny', 'deny', 'grant', 'deny', 'grant', 'grant', 'grant', 'grant', 'grant', 'grant']}}\n",
      "Saving model\n",
      "Epoch 10 completed\n",
      "Accuracy: {'accuracy': 0.9883268482490273}\n",
      "loss : 0.030799462645208147\n",
      "Evaluating model on test set\n",
      "{'accuracy': 0.515625, 'precision': 0.6086956521739131, 'recall': 0.3888888888888889, 'csv': {'brief': ['gov.uscourts.utd.17917.1108.0.txt', 'gov.uscourts.txnd.179161.24.0.txt', 'gov.uscourts.flsd.461950.22.0.txt', 'gov.uscourts.azd.1031122.135.0.txt', 'gov.uscourts.mad.149048.35.0.txt', 'gov.uscourts.vaed.284235.179.0.txt', 'gov.uscourts.vtd.18657.122.0.txt', 'gov.uscourts.mad.127997.28.0.txt', 'gov.uscourts.wied.45575.1186.0.txt', 'gov.uscourts.cand.197984.2000.0.txt', 'gov.uscourts.ilcd.40681.4.0.txt', 'gov.uscourts.insd.41796.150.0.txt', 'gov.uscourts.cand.192753.140.0.txt', 'gov.uscourts.tnwd.61189.33.0.txt', 'gov.uscourts.cand.192674.236.0.txt', 'gov.uscourts.cand.196504.35.0.txt', 'gov.uscourts.flsd.393904.46.0.txt', 'gov.uscourts.cofc.16889.63.0.txt', 'gov.uscourts.txed.127304.89.0.txt', 'gov.uscourts.nyed.309421.10.0.txt', 'gov.uscourts.casd.253104.13.0.txt', 'gov.uscourts.utd.18110.59.0.txt', 'gov.uscourts.miwd.5376.104.0.txt', 'gov.uscourts.ded.8183.134.0.txt', 'gov.uscourts.rid.41576.25.0.txt', 'gov.uscourts.nysd.316362.313.0.txt', 'gov.uscourts.nysd.316362.312.0.txt', 'gov.uscourts.mad.98545.6.0.txt', 'gov.uscourts.nhd.45295.18.0.txt', 'gov.uscourts.cand.34465.234.0.txt', 'gov.uscourts.nysd.330523.585.0.txt', 'gov.uscourts.utd.81811.60.0.txt', 'gov.uscourts.utd.81811.59.0.txt', 'gov.uscourts.mssd.78233.38.0.txt', 'gov.uscourts.txed.104068.190.0.txt', 'gov.uscourts.med.49305.34.0.txt', 'gov.uscourts.ded.8666.105.0.txt', 'gov.uscourts.nysd.315289.102.0.txt', 'gov.uscourts.lamd.50409.19.0.txt', 'gov.uscourts.mied.317381.31.0.txt', 'gov.uscourts.txsd.691059.19.0.txt', 'gov.uscourts.flmd.305522.3.0.txt', 'gov.uscourts.casd.256908.58.0.txt', 'gov.uscourts.arwd.34777.24.0.txt', 'gov.uscourts.wawd.214849.101.0.txt', 'gov.uscourts.pawd.2688.29.0.txt', 'gov.uscourts.txed.119083.107.0.txt', 'gov.uscourts.txnd.143219.17.0.txt', 'gov.uscourts.txnd.143219.19.0.txt', 'gov.uscourts.okwd.69088.18.0.txt', 'gov.uscourts.idd.22192.163.0.txt', 'gov.uscourts.msnd.33061.106.0.txt', 'gov.uscourts.flsd.505840.11.0.txt', 'gov.uscourts.vaed.271949.1032.0.txt', 'gov.uscourts.vaed.271949.979.0.txt', 'gov.uscourts.gand.199351.87.0.txt', 'gov.uscourts.ksd.100034.4.0.txt', 'gov.uscourts.gand.220241.19.0.txt', 'gov.uscourts.idd.18044.15.0.txt', 'gov.uscourts.azd.653020.14.0.txt', 'gov.uscourts.ded.7515.247.0.txt', 'gov.uscourts.ded.7515.263.0.txt', 'gov.uscourts.ded.7515.246.0.txt', 'gov.uscourts.flsd.522563.197.0.txt'], 'predict': ['deny', 'deny', 'grant', 'deny', 'deny', 'deny', 'grant', 'grant', 'grant', 'deny', 'grant', 'deny', 'grant', 'deny', 'deny', 'deny', 'deny', 'grant', 'grant', 'grant', 'deny', 'deny', 'grant', 'deny', 'grant', 'deny', 'deny', 'grant', 'deny', 'deny', 'deny', 'deny', 'deny', 'grant', 'deny', 'deny', 'grant', 'grant', 'deny', 'deny', 'grant', 'deny', 'deny', 'grant', 'grant', 'grant', 'grant', 'grant', 'deny', 'deny', 'deny', 'deny', 'deny', 'deny', 'deny', 'deny', 'grant', 'deny', 'deny', 'grant', 'deny', 'deny', 'deny', 'deny'], 'score': [0.27325797, 0.15301639, 0.9730613, 0.09015613, 0.0061577233, 0.052442167, 0.9746927, 0.93719566, 0.99481213, 0.0031797362, 0.9594763, 0.3215889, 0.9988219, 0.01671076, 0.27225754, 0.0002747864, 0.00052136416, 0.8794142, 0.98883456, 0.9266462, 0.0006787607, 0.060371272, 0.8032872, 0.15550931, 0.9095736, 0.49159703, 0.0023182896, 0.6436761, 0.006023499, 0.36345696, 0.014781185, 0.114047974, 0.0014121904, 0.82606936, 0.0022528395, 0.24936824, 0.72713804, 0.6177537, 0.28404534, 0.034836546, 0.96252376, 0.020790264, 0.003354483, 0.991029, 0.98782045, 0.66893095, 0.72331053, 0.6571081, 0.052416537, 0.05614312, 0.002298123, 0.2717867, 0.003977724, 0.0008109911, 0.00190803, 0.22599277, 0.9893532, 0.48255828, 0.32553262, 0.7931601, 0.00022296968, 0.31575027, 0.0020793048, 0.0066933525], 'truth': ['deny', 'grant', 'deny', 'grant', 'grant', 'grant', 'grant', 'grant', 'deny', 'grant', 'deny', 'deny', 'deny', 'deny', 'deny', 'grant', 'deny', 'grant', 'grant', 'deny', 'grant', 'grant', 'deny', 'grant', 'deny', 'grant', 'grant', 'grant', 'grant', 'deny', 'deny', 'deny', 'deny', 'deny', 'grant', 'deny', 'grant', 'grant', 'deny', 'grant', 'grant', 'grant', 'deny', 'grant', 'deny', 'grant', 'grant', 'grant', 'grant', 'deny', 'deny', 'grant', 'deny', 'deny', 'deny', 'deny', 'grant', 'deny', 'grant', 'grant', 'grant', 'grant', 'grant', 'grant']}}\n",
      "Epoch 11 completed\n",
      "Accuracy: {'accuracy': 0.9961089494163424}\n",
      "loss : 0.016128502500535876\n",
      "Evaluating model on test set\n",
      "{'accuracy': 0.5, 'precision': 0.5526315789473685, 'recall': 0.5833333333333334, 'csv': {'brief': ['gov.uscourts.utd.17917.1108.0.txt', 'gov.uscourts.txnd.179161.24.0.txt', 'gov.uscourts.flsd.461950.22.0.txt', 'gov.uscourts.azd.1031122.135.0.txt', 'gov.uscourts.mad.149048.35.0.txt', 'gov.uscourts.vaed.284235.179.0.txt', 'gov.uscourts.vtd.18657.122.0.txt', 'gov.uscourts.mad.127997.28.0.txt', 'gov.uscourts.wied.45575.1186.0.txt', 'gov.uscourts.cand.197984.2000.0.txt', 'gov.uscourts.ilcd.40681.4.0.txt', 'gov.uscourts.insd.41796.150.0.txt', 'gov.uscourts.cand.192753.140.0.txt', 'gov.uscourts.tnwd.61189.33.0.txt', 'gov.uscourts.cand.192674.236.0.txt', 'gov.uscourts.cand.196504.35.0.txt', 'gov.uscourts.flsd.393904.46.0.txt', 'gov.uscourts.cofc.16889.63.0.txt', 'gov.uscourts.txed.127304.89.0.txt', 'gov.uscourts.nyed.309421.10.0.txt', 'gov.uscourts.casd.253104.13.0.txt', 'gov.uscourts.utd.18110.59.0.txt', 'gov.uscourts.miwd.5376.104.0.txt', 'gov.uscourts.ded.8183.134.0.txt', 'gov.uscourts.rid.41576.25.0.txt', 'gov.uscourts.nysd.316362.313.0.txt', 'gov.uscourts.nysd.316362.312.0.txt', 'gov.uscourts.mad.98545.6.0.txt', 'gov.uscourts.nhd.45295.18.0.txt', 'gov.uscourts.cand.34465.234.0.txt', 'gov.uscourts.nysd.330523.585.0.txt', 'gov.uscourts.utd.81811.60.0.txt', 'gov.uscourts.utd.81811.59.0.txt', 'gov.uscourts.mssd.78233.38.0.txt', 'gov.uscourts.txed.104068.190.0.txt', 'gov.uscourts.med.49305.34.0.txt', 'gov.uscourts.ded.8666.105.0.txt', 'gov.uscourts.nysd.315289.102.0.txt', 'gov.uscourts.lamd.50409.19.0.txt', 'gov.uscourts.mied.317381.31.0.txt', 'gov.uscourts.txsd.691059.19.0.txt', 'gov.uscourts.flmd.305522.3.0.txt', 'gov.uscourts.casd.256908.58.0.txt', 'gov.uscourts.arwd.34777.24.0.txt', 'gov.uscourts.wawd.214849.101.0.txt', 'gov.uscourts.pawd.2688.29.0.txt', 'gov.uscourts.txed.119083.107.0.txt', 'gov.uscourts.txnd.143219.17.0.txt', 'gov.uscourts.txnd.143219.19.0.txt', 'gov.uscourts.okwd.69088.18.0.txt', 'gov.uscourts.idd.22192.163.0.txt', 'gov.uscourts.msnd.33061.106.0.txt', 'gov.uscourts.flsd.505840.11.0.txt', 'gov.uscourts.vaed.271949.1032.0.txt', 'gov.uscourts.vaed.271949.979.0.txt', 'gov.uscourts.gand.199351.87.0.txt', 'gov.uscourts.ksd.100034.4.0.txt', 'gov.uscourts.gand.220241.19.0.txt', 'gov.uscourts.idd.18044.15.0.txt', 'gov.uscourts.azd.653020.14.0.txt', 'gov.uscourts.ded.7515.247.0.txt', 'gov.uscourts.ded.7515.263.0.txt', 'gov.uscourts.ded.7515.246.0.txt', 'gov.uscourts.flsd.522563.197.0.txt'], 'predict': ['deny', 'grant', 'grant', 'grant', 'deny', 'deny', 'grant', 'grant', 'grant', 'deny', 'grant', 'grant', 'grant', 'grant', 'grant', 'deny', 'deny', 'grant', 'grant', 'grant', 'deny', 'deny', 'grant', 'deny', 'grant', 'grant', 'deny', 'grant', 'deny', 'grant', 'deny', 'grant', 'deny', 'grant', 'deny', 'deny', 'grant', 'grant', 'grant', 'deny', 'grant', 'deny', 'deny', 'grant', 'grant', 'grant', 'grant', 'grant', 'grant', 'grant', 'deny', 'grant', 'deny', 'deny', 'deny', 'grant', 'grant', 'deny', 'grant', 'grant', 'deny', 'grant', 'deny', 'deny'], 'score': [0.44762754, 0.8266258, 0.9989159, 0.8025197, 0.0045626103, 0.46738547, 0.9979886, 0.99255705, 0.9996074, 0.0066507203, 0.9898461, 0.7136461, 0.999877, 0.69005865, 0.952598, 0.00048982445, 0.003928059, 0.7711461, 0.9988925, 0.97108126, 0.0074106106, 0.22666669, 0.8503051, 0.40961018, 0.9893245, 0.9743361, 0.006520565, 0.87453467, 0.059805755, 0.92817354, 0.035420083, 0.9241269, 0.0076857163, 0.95043254, 0.006150103, 0.38762602, 0.8592154, 0.642473, 0.74890065, 0.19476739, 0.99923563, 0.07272562, 0.042047255, 0.99846727, 0.999496, 0.8057258, 0.9232126, 0.9559734, 0.63028103, 0.596855, 0.040649213, 0.91536677, 0.06960816, 0.0019533574, 0.0029879939, 0.94302416, 0.99816823, 0.45138815, 0.93468416, 0.9135915, 0.00061212684, 0.75013095, 0.038557258, 0.010140037], 'truth': ['deny', 'grant', 'deny', 'grant', 'grant', 'grant', 'grant', 'grant', 'deny', 'grant', 'deny', 'deny', 'deny', 'deny', 'deny', 'grant', 'deny', 'grant', 'grant', 'deny', 'grant', 'grant', 'deny', 'grant', 'deny', 'grant', 'grant', 'grant', 'grant', 'deny', 'deny', 'deny', 'deny', 'deny', 'grant', 'deny', 'grant', 'grant', 'deny', 'grant', 'grant', 'grant', 'deny', 'grant', 'deny', 'grant', 'grant', 'grant', 'grant', 'deny', 'deny', 'grant', 'deny', 'deny', 'deny', 'deny', 'grant', 'deny', 'grant', 'grant', 'grant', 'grant', 'grant', 'grant']}}\n",
      "Epoch 12 completed\n",
      "Accuracy: {'accuracy': 0.9922178988326849}\n",
      "loss : 0.04911468718902572\n",
      "Evaluating model on test set\n",
      "{'accuracy': 0.515625, 'precision': 0.5581395348837209, 'recall': 0.6666666666666666, 'csv': {'brief': ['gov.uscourts.utd.17917.1108.0.txt', 'gov.uscourts.txnd.179161.24.0.txt', 'gov.uscourts.flsd.461950.22.0.txt', 'gov.uscourts.azd.1031122.135.0.txt', 'gov.uscourts.mad.149048.35.0.txt', 'gov.uscourts.vaed.284235.179.0.txt', 'gov.uscourts.vtd.18657.122.0.txt', 'gov.uscourts.mad.127997.28.0.txt', 'gov.uscourts.wied.45575.1186.0.txt', 'gov.uscourts.cand.197984.2000.0.txt', 'gov.uscourts.ilcd.40681.4.0.txt', 'gov.uscourts.insd.41796.150.0.txt', 'gov.uscourts.cand.192753.140.0.txt', 'gov.uscourts.tnwd.61189.33.0.txt', 'gov.uscourts.cand.192674.236.0.txt', 'gov.uscourts.cand.196504.35.0.txt', 'gov.uscourts.flsd.393904.46.0.txt', 'gov.uscourts.cofc.16889.63.0.txt', 'gov.uscourts.txed.127304.89.0.txt', 'gov.uscourts.nyed.309421.10.0.txt', 'gov.uscourts.casd.253104.13.0.txt', 'gov.uscourts.utd.18110.59.0.txt', 'gov.uscourts.miwd.5376.104.0.txt', 'gov.uscourts.ded.8183.134.0.txt', 'gov.uscourts.rid.41576.25.0.txt', 'gov.uscourts.nysd.316362.313.0.txt', 'gov.uscourts.nysd.316362.312.0.txt', 'gov.uscourts.mad.98545.6.0.txt', 'gov.uscourts.nhd.45295.18.0.txt', 'gov.uscourts.cand.34465.234.0.txt', 'gov.uscourts.nysd.330523.585.0.txt', 'gov.uscourts.utd.81811.60.0.txt', 'gov.uscourts.utd.81811.59.0.txt', 'gov.uscourts.mssd.78233.38.0.txt', 'gov.uscourts.txed.104068.190.0.txt', 'gov.uscourts.med.49305.34.0.txt', 'gov.uscourts.ded.8666.105.0.txt', 'gov.uscourts.nysd.315289.102.0.txt', 'gov.uscourts.lamd.50409.19.0.txt', 'gov.uscourts.mied.317381.31.0.txt', 'gov.uscourts.txsd.691059.19.0.txt', 'gov.uscourts.flmd.305522.3.0.txt', 'gov.uscourts.casd.256908.58.0.txt', 'gov.uscourts.arwd.34777.24.0.txt', 'gov.uscourts.wawd.214849.101.0.txt', 'gov.uscourts.pawd.2688.29.0.txt', 'gov.uscourts.txed.119083.107.0.txt', 'gov.uscourts.txnd.143219.17.0.txt', 'gov.uscourts.txnd.143219.19.0.txt', 'gov.uscourts.okwd.69088.18.0.txt', 'gov.uscourts.idd.22192.163.0.txt', 'gov.uscourts.msnd.33061.106.0.txt', 'gov.uscourts.flsd.505840.11.0.txt', 'gov.uscourts.vaed.271949.1032.0.txt', 'gov.uscourts.vaed.271949.979.0.txt', 'gov.uscourts.gand.199351.87.0.txt', 'gov.uscourts.ksd.100034.4.0.txt', 'gov.uscourts.gand.220241.19.0.txt', 'gov.uscourts.idd.18044.15.0.txt', 'gov.uscourts.azd.653020.14.0.txt', 'gov.uscourts.ded.7515.247.0.txt', 'gov.uscourts.ded.7515.263.0.txt', 'gov.uscourts.ded.7515.246.0.txt', 'gov.uscourts.flsd.522563.197.0.txt'], 'predict': ['deny', 'grant', 'grant', 'grant', 'deny', 'grant', 'grant', 'grant', 'grant', 'deny', 'grant', 'grant', 'grant', 'grant', 'grant', 'deny', 'deny', 'grant', 'grant', 'grant', 'deny', 'grant', 'grant', 'grant', 'grant', 'grant', 'deny', 'grant', 'deny', 'grant', 'deny', 'grant', 'deny', 'grant', 'deny', 'grant', 'grant', 'grant', 'grant', 'deny', 'grant', 'deny', 'deny', 'grant', 'grant', 'grant', 'grant', 'grant', 'grant', 'grant', 'deny', 'grant', 'deny', 'deny', 'deny', 'grant', 'grant', 'grant', 'grant', 'grant', 'deny', 'grant', 'deny', 'deny'], 'score': [0.49047187, 0.906386, 0.9987814, 0.7219418, 0.0044939215, 0.7299329, 0.99638355, 0.9975007, 0.99944335, 0.04902846, 0.98416024, 0.9104215, 0.9997477, 0.8486628, 0.8841682, 0.0064334217, 0.003895818, 0.84945786, 0.99876714, 0.997232, 0.15459883, 0.65545005, 0.9054736, 0.76872426, 0.9942567, 0.9868526, 0.019877044, 0.97747916, 0.03133677, 0.9645327, 0.12914778, 0.9243152, 0.085260436, 0.972873, 0.027469838, 0.5438196, 0.9570606, 0.6875624, 0.7855974, 0.15441163, 0.99887127, 0.17612043, 0.021550367, 0.9978403, 0.99967337, 0.88072705, 0.97256684, 0.97974074, 0.9029735, 0.7087875, 0.0832112, 0.9520161, 0.12108705, 0.0032068137, 0.01554453, 0.9862083, 0.99916816, 0.64979076, 0.94346267, 0.97405607, 0.0019607048, 0.8034261, 0.08100727, 0.06883225], 'truth': ['deny', 'grant', 'deny', 'grant', 'grant', 'grant', 'grant', 'grant', 'deny', 'grant', 'deny', 'deny', 'deny', 'deny', 'deny', 'grant', 'deny', 'grant', 'grant', 'deny', 'grant', 'grant', 'deny', 'grant', 'deny', 'grant', 'grant', 'grant', 'grant', 'deny', 'deny', 'deny', 'deny', 'deny', 'grant', 'deny', 'grant', 'grant', 'deny', 'grant', 'grant', 'grant', 'deny', 'grant', 'deny', 'grant', 'grant', 'grant', 'grant', 'deny', 'deny', 'grant', 'deny', 'deny', 'deny', 'deny', 'grant', 'deny', 'grant', 'grant', 'grant', 'grant', 'grant', 'grant']}}\n",
      "Epoch 13 completed\n",
      "Accuracy: {'accuracy': 1.0}\n",
      "loss : 0.0026290620382299445\n",
      "Evaluating model on test set\n",
      "{'accuracy': 0.484375, 'precision': 0.5428571428571428, 'recall': 0.5277777777777778, 'csv': {'brief': ['gov.uscourts.utd.17917.1108.0.txt', 'gov.uscourts.txnd.179161.24.0.txt', 'gov.uscourts.flsd.461950.22.0.txt', 'gov.uscourts.azd.1031122.135.0.txt', 'gov.uscourts.mad.149048.35.0.txt', 'gov.uscourts.vaed.284235.179.0.txt', 'gov.uscourts.vtd.18657.122.0.txt', 'gov.uscourts.mad.127997.28.0.txt', 'gov.uscourts.wied.45575.1186.0.txt', 'gov.uscourts.cand.197984.2000.0.txt', 'gov.uscourts.ilcd.40681.4.0.txt', 'gov.uscourts.insd.41796.150.0.txt', 'gov.uscourts.cand.192753.140.0.txt', 'gov.uscourts.tnwd.61189.33.0.txt', 'gov.uscourts.cand.192674.236.0.txt', 'gov.uscourts.cand.196504.35.0.txt', 'gov.uscourts.flsd.393904.46.0.txt', 'gov.uscourts.cofc.16889.63.0.txt', 'gov.uscourts.txed.127304.89.0.txt', 'gov.uscourts.nyed.309421.10.0.txt', 'gov.uscourts.casd.253104.13.0.txt', 'gov.uscourts.utd.18110.59.0.txt', 'gov.uscourts.miwd.5376.104.0.txt', 'gov.uscourts.ded.8183.134.0.txt', 'gov.uscourts.rid.41576.25.0.txt', 'gov.uscourts.nysd.316362.313.0.txt', 'gov.uscourts.nysd.316362.312.0.txt', 'gov.uscourts.mad.98545.6.0.txt', 'gov.uscourts.nhd.45295.18.0.txt', 'gov.uscourts.cand.34465.234.0.txt', 'gov.uscourts.nysd.330523.585.0.txt', 'gov.uscourts.utd.81811.60.0.txt', 'gov.uscourts.utd.81811.59.0.txt', 'gov.uscourts.mssd.78233.38.0.txt', 'gov.uscourts.txed.104068.190.0.txt', 'gov.uscourts.med.49305.34.0.txt', 'gov.uscourts.ded.8666.105.0.txt', 'gov.uscourts.nysd.315289.102.0.txt', 'gov.uscourts.lamd.50409.19.0.txt', 'gov.uscourts.mied.317381.31.0.txt', 'gov.uscourts.txsd.691059.19.0.txt', 'gov.uscourts.flmd.305522.3.0.txt', 'gov.uscourts.casd.256908.58.0.txt', 'gov.uscourts.arwd.34777.24.0.txt', 'gov.uscourts.wawd.214849.101.0.txt', 'gov.uscourts.pawd.2688.29.0.txt', 'gov.uscourts.txed.119083.107.0.txt', 'gov.uscourts.txnd.143219.17.0.txt', 'gov.uscourts.txnd.143219.19.0.txt', 'gov.uscourts.okwd.69088.18.0.txt', 'gov.uscourts.idd.22192.163.0.txt', 'gov.uscourts.msnd.33061.106.0.txt', 'gov.uscourts.flsd.505840.11.0.txt', 'gov.uscourts.vaed.271949.1032.0.txt', 'gov.uscourts.vaed.271949.979.0.txt', 'gov.uscourts.gand.199351.87.0.txt', 'gov.uscourts.ksd.100034.4.0.txt', 'gov.uscourts.gand.220241.19.0.txt', 'gov.uscourts.idd.18044.15.0.txt', 'gov.uscourts.azd.653020.14.0.txt', 'gov.uscourts.ded.7515.247.0.txt', 'gov.uscourts.ded.7515.263.0.txt', 'gov.uscourts.ded.7515.246.0.txt', 'gov.uscourts.flsd.522563.197.0.txt'], 'predict': ['deny', 'grant', 'grant', 'deny', 'deny', 'deny', 'grant', 'grant', 'grant', 'deny', 'grant', 'grant', 'grant', 'deny', 'grant', 'deny', 'deny', 'grant', 'grant', 'grant', 'deny', 'deny', 'grant', 'deny', 'grant', 'grant', 'deny', 'grant', 'deny', 'grant', 'deny', 'grant', 'deny', 'grant', 'deny', 'deny', 'grant', 'grant', 'grant', 'deny', 'grant', 'deny', 'deny', 'grant', 'grant', 'grant', 'grant', 'grant', 'deny', 'grant', 'deny', 'grant', 'deny', 'deny', 'deny', 'grant', 'grant', 'deny', 'grant', 'grant', 'deny', 'grant', 'deny', 'deny'], 'score': [0.37610736, 0.8436897, 0.99916327, 0.30131716, 0.0019450169, 0.4012937, 0.99685585, 0.99570686, 0.9996151, 0.007283256, 0.98133653, 0.77805084, 0.99985564, 0.43247423, 0.6906087, 0.00051048025, 0.0010519099, 0.8088963, 0.9981645, 0.9918069, 0.007176067, 0.37757498, 0.8770351, 0.3547643, 0.9908448, 0.9740757, 0.006060138, 0.9417116, 0.01125363, 0.79361814, 0.05366779, 0.8992502, 0.010567287, 0.9613931, 0.0053370255, 0.353619, 0.9587286, 0.5664347, 0.5817907, 0.077156745, 0.99895287, 0.07189004, 0.0028404843, 0.99800617, 0.9996675, 0.8474259, 0.91550046, 0.96889436, 0.27623287, 0.5330605, 0.01363386, 0.8976984, 0.02060745, 0.0013556642, 0.004072477, 0.9628889, 0.9989856, 0.3569467, 0.9291852, 0.9589865, 0.0005158195, 0.6481428, 0.02172855, 0.008915844], 'truth': ['deny', 'grant', 'deny', 'grant', 'grant', 'grant', 'grant', 'grant', 'deny', 'grant', 'deny', 'deny', 'deny', 'deny', 'deny', 'grant', 'deny', 'grant', 'grant', 'deny', 'grant', 'grant', 'deny', 'grant', 'deny', 'grant', 'grant', 'grant', 'grant', 'deny', 'deny', 'deny', 'deny', 'deny', 'grant', 'deny', 'grant', 'grant', 'deny', 'grant', 'grant', 'grant', 'deny', 'grant', 'deny', 'grant', 'grant', 'grant', 'grant', 'deny', 'deny', 'grant', 'deny', 'deny', 'deny', 'deny', 'grant', 'deny', 'grant', 'grant', 'grant', 'grant', 'grant', 'grant']}}\n"
     ]
    },
    {
     "ename": "KeyboardInterrupt",
     "evalue": "",
     "output_type": "error",
     "traceback": [
      "\u001b[0;31m---------------------------------------------------------------------------\u001b[0m",
      "\u001b[0;31mKeyboardInterrupt\u001b[0m                         Traceback (most recent call last)",
      "Cell \u001b[0;32mIn[6], line 17\u001b[0m\n\u001b[1;32m     15\u001b[0m outputs \u001b[38;5;241m=\u001b[39m model(\u001b[38;5;241m*\u001b[39m\u001b[38;5;241m*\u001b[39minputs)\n\u001b[1;32m     16\u001b[0m loss \u001b[38;5;241m=\u001b[39m outputs\u001b[38;5;241m.\u001b[39mloss\n\u001b[0;32m---> 17\u001b[0m \u001b[43mloss\u001b[49m\u001b[38;5;241;43m.\u001b[39;49m\u001b[43mbackward\u001b[49m\u001b[43m(\u001b[49m\u001b[43m)\u001b[49m\n\u001b[1;32m     19\u001b[0m average_loss \u001b[38;5;241m+\u001b[39m\u001b[38;5;241m=\u001b[39m loss\u001b[38;5;241m.\u001b[39mitem()\n\u001b[1;32m     22\u001b[0m optimizer\u001b[38;5;241m.\u001b[39mstep()\n",
      "File \u001b[0;32m~/.local/lib/python3.11/site-packages/torch/_tensor.py:492\u001b[0m, in \u001b[0;36mTensor.backward\u001b[0;34m(self, gradient, retain_graph, create_graph, inputs)\u001b[0m\n\u001b[1;32m    482\u001b[0m \u001b[38;5;28;01mif\u001b[39;00m has_torch_function_unary(\u001b[38;5;28mself\u001b[39m):\n\u001b[1;32m    483\u001b[0m     \u001b[38;5;28;01mreturn\u001b[39;00m handle_torch_function(\n\u001b[1;32m    484\u001b[0m         Tensor\u001b[38;5;241m.\u001b[39mbackward,\n\u001b[1;32m    485\u001b[0m         (\u001b[38;5;28mself\u001b[39m,),\n\u001b[0;32m   (...)\u001b[0m\n\u001b[1;32m    490\u001b[0m         inputs\u001b[38;5;241m=\u001b[39minputs,\n\u001b[1;32m    491\u001b[0m     )\n\u001b[0;32m--> 492\u001b[0m \u001b[43mtorch\u001b[49m\u001b[38;5;241;43m.\u001b[39;49m\u001b[43mautograd\u001b[49m\u001b[38;5;241;43m.\u001b[39;49m\u001b[43mbackward\u001b[49m\u001b[43m(\u001b[49m\n\u001b[1;32m    493\u001b[0m \u001b[43m    \u001b[49m\u001b[38;5;28;43mself\u001b[39;49m\u001b[43m,\u001b[49m\u001b[43m \u001b[49m\u001b[43mgradient\u001b[49m\u001b[43m,\u001b[49m\u001b[43m \u001b[49m\u001b[43mretain_graph\u001b[49m\u001b[43m,\u001b[49m\u001b[43m \u001b[49m\u001b[43mcreate_graph\u001b[49m\u001b[43m,\u001b[49m\u001b[43m \u001b[49m\u001b[43minputs\u001b[49m\u001b[38;5;241;43m=\u001b[39;49m\u001b[43minputs\u001b[49m\n\u001b[1;32m    494\u001b[0m \u001b[43m\u001b[49m\u001b[43m)\u001b[49m\n",
      "File \u001b[0;32m~/.local/lib/python3.11/site-packages/torch/autograd/__init__.py:251\u001b[0m, in \u001b[0;36mbackward\u001b[0;34m(tensors, grad_tensors, retain_graph, create_graph, grad_variables, inputs)\u001b[0m\n\u001b[1;32m    246\u001b[0m     retain_graph \u001b[38;5;241m=\u001b[39m create_graph\n\u001b[1;32m    248\u001b[0m \u001b[38;5;66;03m# The reason we repeat the same comment below is that\u001b[39;00m\n\u001b[1;32m    249\u001b[0m \u001b[38;5;66;03m# some Python versions print out the first line of a multi-line function\u001b[39;00m\n\u001b[1;32m    250\u001b[0m \u001b[38;5;66;03m# calls in the traceback and some print out the last line\u001b[39;00m\n\u001b[0;32m--> 251\u001b[0m \u001b[43mVariable\u001b[49m\u001b[38;5;241;43m.\u001b[39;49m\u001b[43m_execution_engine\u001b[49m\u001b[38;5;241;43m.\u001b[39;49m\u001b[43mrun_backward\u001b[49m\u001b[43m(\u001b[49m\u001b[43m  \u001b[49m\u001b[38;5;66;43;03m# Calls into the C++ engine to run the backward pass\u001b[39;49;00m\n\u001b[1;32m    252\u001b[0m \u001b[43m    \u001b[49m\u001b[43mtensors\u001b[49m\u001b[43m,\u001b[49m\n\u001b[1;32m    253\u001b[0m \u001b[43m    \u001b[49m\u001b[43mgrad_tensors_\u001b[49m\u001b[43m,\u001b[49m\n\u001b[1;32m    254\u001b[0m \u001b[43m    \u001b[49m\u001b[43mretain_graph\u001b[49m\u001b[43m,\u001b[49m\n\u001b[1;32m    255\u001b[0m \u001b[43m    \u001b[49m\u001b[43mcreate_graph\u001b[49m\u001b[43m,\u001b[49m\n\u001b[1;32m    256\u001b[0m \u001b[43m    \u001b[49m\u001b[43minputs\u001b[49m\u001b[43m,\u001b[49m\n\u001b[1;32m    257\u001b[0m \u001b[43m    \u001b[49m\u001b[43mallow_unreachable\u001b[49m\u001b[38;5;241;43m=\u001b[39;49m\u001b[38;5;28;43;01mTrue\u001b[39;49;00m\u001b[43m,\u001b[49m\n\u001b[1;32m    258\u001b[0m \u001b[43m    \u001b[49m\u001b[43maccumulate_grad\u001b[49m\u001b[38;5;241;43m=\u001b[39;49m\u001b[38;5;28;43;01mTrue\u001b[39;49;00m\u001b[43m,\u001b[49m\n\u001b[1;32m    259\u001b[0m \u001b[43m\u001b[49m\u001b[43m)\u001b[49m\n",
      "\u001b[0;31mKeyboardInterrupt\u001b[0m: "
     ]
    }
   ],
   "source": [
    "from tqdm.auto import tqdm\n",
    "progress_bar = tqdm(range(num_training_steps))\n",
    "\n",
    "# i wonder if the outputs.loss is the same as loss_fn(outputs, labels)\n",
    "# Try to log the values \n",
    "\n",
    "best_valid_acc = 0.0\n",
    "model.train()\n",
    "print(\"Training model\")\n",
    "for epoch in range(num_epochs):\n",
    "    acc = evaluate.load(\"accuracy\")\n",
    "    average_loss = 0\n",
    "    for batch in train_dataloader:\n",
    "        inputs = {k: v.to(device) for k, v in batch.items() if k != \"file_name\"}\n",
    "        outputs = model(**inputs)\n",
    "        loss = outputs.loss\n",
    "        loss.backward()\n",
    "        \n",
    "        average_loss += loss.item()\n",
    "        \n",
    "\n",
    "        optimizer.step()\n",
    "       \n",
    "        optimizer.zero_grad()\n",
    "        progress_bar.update(1)\n",
    "\n",
    "        # get the predictions\n",
    "        logits = outputs.logits\n",
    "        predictions = torch.argmax(logits, dim=-1)\n",
    "        acc.add_batch(predictions=predictions, references=inputs[\"labels\"])\n",
    "\n",
    "    accuracy_per_epoch = acc.compute()\n",
    "    print(f\"Epoch {epoch} completed\")\n",
    "    print(f\"Accuracy: {accuracy_per_epoch}\")\n",
    "    avg_loss = average_loss / len(train_dataloader)\n",
    "    print(f\"loss : {avg_loss}\")\n",
    "\n",
    "    print(\"Evaluating model on test set\")\n",
    "    metrics = test_metrics(model, eval_dataloader)\n",
    "    csv = metrics[\"csv\"]\n",
    "    csv = pd.DataFrame(csv)\n",
    "    print(metrics)\n",
    "    \n",
    "    wandb.log({\"loss_per_epoch\": avg_loss , \n",
    "               \"accuracy_per_epoch\": accuracy_per_epoch,\n",
    "               \"test_accuracy\" :metrics[\"accuracy\"],\n",
    "                \"test_recall\": metrics[\"recall\"],\n",
    "                \"test_precision\": metrics[\"precision\"],\n",
    "               })\n",
    "    \n",
    "    if metrics[\"accuracy\"] > best_valid_acc and accuracy_per_epoch[\"accuracy\"] > 0.75:\n",
    "        best_valid_acc = metrics[\"accuracy\"]\n",
    "        print(\"Saving model\")\n",
    "        model.save_pretrained(f\"../models/LLM-{model_type}-{key}-test\")\n",
    "        csv.to_csv(f\"../predictions/LLM-{model_type}-{key}-test.csv\", index=False)\n",
    "    \n",
    "wandb.finish()\n",
    "\n",
    "\n"
   ]
  },
  {
   "cell_type": "markdown",
   "metadata": {},
   "source": [
    "#### Try this tomorrow:\n",
    "https://www.youtube.com/watch?v=t8Krzu-nSeY&ab_channel=HuggingFace"
   ]
  },
  {
   "cell_type": "code",
   "execution_count": null,
   "metadata": {},
   "outputs": [],
   "source": []
  }
 ],
 "metadata": {
  "kernelspec": {
   "display_name": "Python 3",
   "language": "python",
   "name": "python3"
  },
  "language_info": {
   "codemirror_mode": {
    "name": "ipython",
    "version": 3
   },
   "file_extension": ".py",
   "mimetype": "text/x-python",
   "name": "python",
   "nbconvert_exporter": "python",
   "pygments_lexer": "ipython3",
   "version": "3.11.5"
  }
 },
 "nbformat": 4,
 "nbformat_minor": 2
}
